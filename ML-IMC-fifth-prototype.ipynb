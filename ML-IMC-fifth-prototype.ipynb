{
 "cells": [
  {
   "cell_type": "markdown",
   "id": "bec5b212",
   "metadata": {},
   "source": [
    "# ML-IMC"
   ]
  },
  {
   "cell_type": "code",
   "execution_count": 2,
   "id": "3e0866ac",
   "metadata": {},
   "outputs": [],
   "source": [
    "using Dates\n",
    "using Plots\n",
    "using Statistics\n",
    "using LinearAlgebra\n",
    "using Distributed\n",
    "\n",
    "if nworkers() == 1\n",
    "    BLAS.set_num_threads(1)\n",
    "    addprocs(4)\n",
    "end\n",
    "\n",
    "@everywhere begin\n",
    "    include(\"src/distances.jl\")\n",
    "    include(\"src/readLJ.jl\")\n",
    "    include(\"src/ML-IMC.jl\");\n",
    "end"
   ]
  },
  {
   "cell_type": "markdown",
   "id": "e76fb103",
   "metadata": {},
   "source": [
    "## 1. The first iteration\n",
    "\n",
    "## 1.1. Input data "
   ]
  },
  {
   "cell_type": "code",
   "execution_count": 4,
   "id": "dd963076",
   "metadata": {},
   "outputs": [],
   "source": [
    "bins, rdfref, histref = readRDF(\"rdf-mean-p40.dat\")\n",
    "histref ./= 500;"
   ]
  },
  {
   "cell_type": "code",
   "execution_count": 5,
   "id": "67224931",
   "metadata": {},
   "outputs": [
    {
     "name": "stdout",
     "output_type": "stream",
     "text": [
      "Reading mctraj-p001.xyz with 6012 lines...\n",
      "Found 6 frames with 1000 atoms each...\n",
      "Success! Closing the file...\n"
     ]
    }
   ],
   "source": [
    "xyz = readXYZ(\"mctraj-p001.xyz\")\n",
    "conf = xyz[end]\n",
    "\n",
    "parameters = readinput(\"LJML-init.in\")\n",
    "\n",
    "model = Dense(length(histref), 1, bias=true);"
   ]
  },
  {
   "cell_type": "code",
   "execution_count": 6,
   "id": "541c0067",
   "metadata": {},
   "outputs": [],
   "source": [
    "η = 0.005; # learning rate"
   ]
  },
  {
   "cell_type": "markdown",
   "id": "eae677c3",
   "metadata": {},
   "source": [
    "## 1.2. Running the simulation"
   ]
  },
  {
   "cell_type": "code",
   "execution_count": 7,
   "id": "431d7032",
   "metadata": {},
   "outputs": [],
   "source": [
    "function main(conf, parameters, model)    \n",
    "    # Start the timer\n",
    "    startTime = Dates.now()\n",
    "    println(\"Running MC simulation on $(nworkers()) rank(s)...\\n\")\n",
    "    println(\"Total number of steps: $(parameters.steps * nworkers() / 1E6)M\")\n",
    "    println(\"Starting at: \", startTime)\n",
    "    \n",
    "    # Prepare inputs\n",
    "    input = conf, parameters, model\n",
    "    inputs = [input for worker in workers()]\n",
    "    \n",
    "    # Run the simulation in parallel\n",
    "    outputs = pmap(mcrun!, inputs)\n",
    "    \n",
    "    # Stop the timer\n",
    "    stopTime = Dates.now()\n",
    "    wallTime = Dates.canonicalize(stopTime - startTime)\n",
    "    println(\"Stopping at: \", stopTime, \"\\n\")\n",
    "    println(\"Walltime: \", wallTime)\n",
    "    \n",
    "    return(outputs)\n",
    "end;"
   ]
  },
  {
   "cell_type": "code",
   "execution_count": 8,
   "id": "93f0d9a2",
   "metadata": {},
   "outputs": [
    {
     "name": "stdout",
     "output_type": "stream",
     "text": [
      "Running MC simulation on 4 rank(s)...\n",
      "\n",
      "Total number of steps: 8.0M\n",
      "Starting at: 2022-03-25T14:16:05.208\n",
      "      From worker 2:\t\n",
      "      From worker 2:\tsignal (11): Segmentation fault\n",
      "      From worker 2:\tin expression starting at none:0\n"
     ]
    },
    {
     "name": "stderr",
     "output_type": "stream",
     "text": [
      "Worker 2 terminated.\n",
      "\u001b[91m\u001b[1mUnhandled Task \u001b[22m\u001b[39m\u001b[91m\u001b[1mERROR: \u001b[22m\u001b[39mEOFError: read end of file\n",
      "Stacktrace:\n",
      " [1] \u001b[0m\u001b[1m(::Base.var\"#wait_locked#645\")\u001b[22m\u001b[0m\u001b[1m(\u001b[22m\u001b[90ms\u001b[39m::\u001b[0mSockets.TCPSocket, \u001b[90mbuf\u001b[39m::\u001b[0mIOBuffer, \u001b[90mnb\u001b[39m::\u001b[0mInt64\u001b[0m\u001b[1m)\u001b[22m\n",
      "\u001b[90m   @ \u001b[39m\u001b[90mBase\u001b[39m \u001b[90m./\u001b[39m\u001b[90m\u001b[4mstream.jl:892\u001b[24m\u001b[39m\n",
      " [2] \u001b[0m\u001b[1munsafe_read\u001b[22m\u001b[0m\u001b[1m(\u001b[22m\u001b[90ms\u001b[39m::\u001b[0mSockets.TCPSocket, \u001b[90mp\u001b[39m::\u001b[0mPtr\u001b[90m{UInt8}\u001b[39m, \u001b[90mnb\u001b[39m::\u001b[0mUInt64\u001b[0m\u001b[1m)\u001b[22m\n",
      "\u001b[90m   @ \u001b[39m\u001b[90mBase\u001b[39m \u001b[90m./\u001b[39m\u001b[90m\u001b[4mstream.jl:900\u001b[24m\u001b[39m\n",
      " [3] \u001b[0m\u001b[1munsafe_read\u001b[22m\n",
      "\u001b[90m   @ \u001b[39m\u001b[90m./\u001b[39m\u001b[90m\u001b[4mio.jl:724\u001b[24m\u001b[39m\u001b[90m [inlined]\u001b[39m\n",
      " [4] \u001b[0m\u001b[1munsafe_read\u001b[22m\u001b[0m\u001b[1m(\u001b[22m\u001b[90ms\u001b[39m::\u001b[0mSockets.TCPSocket, \u001b[90mp\u001b[39m::\u001b[0mBase.RefValue\u001b[90m{NTuple{4, Int64}}\u001b[39m, \u001b[90mn\u001b[39m::\u001b[0mInt64\u001b[0m\u001b[1m)\u001b[22m\n",
      "\u001b[90m   @ \u001b[39m\u001b[90mBase\u001b[39m \u001b[90m./\u001b[39m\u001b[90m\u001b[4mio.jl:723\u001b[24m\u001b[39m\n",
      " [5] \u001b[0m\u001b[1mread!\u001b[22m\n",
      "\u001b[90m   @ \u001b[39m\u001b[90m./\u001b[39m\u001b[90m\u001b[4mio.jl:725\u001b[24m\u001b[39m\u001b[90m [inlined]\u001b[39m\n",
      " [6] \u001b[0m\u001b[1mdeserialize_hdr_raw\u001b[22m\n",
      "\u001b[90m   @ \u001b[39m\u001b[90m/usr/local/julia-1.7.2/share/julia/stdlib/v1.7/Distributed/src/\u001b[39m\u001b[90m\u001b[4mmessages.jl:167\u001b[24m\u001b[39m\u001b[90m [inlined]\u001b[39m\n",
      " [7] \u001b[0m\u001b[1mmessage_handler_loop\u001b[22m\u001b[0m\u001b[1m(\u001b[22m\u001b[90mr_stream\u001b[39m::\u001b[0mSockets.TCPSocket, \u001b[90mw_stream\u001b[39m::\u001b[0mSockets.TCPSocket, \u001b[90mincoming\u001b[39m::\u001b[0mBool\u001b[0m\u001b[1m)\u001b[22m\n",
      "\u001b[90m   @ \u001b[39m\u001b[35mDistributed\u001b[39m \u001b[90m/usr/local/julia-1.7.2/share/julia/stdlib/v1.7/Distributed/src/\u001b[39m\u001b[90m\u001b[4mprocess_messages.jl:165\u001b[24m\u001b[39m\n",
      " [8] \u001b[0m\u001b[1mprocess_tcp_streams\u001b[22m\u001b[0m\u001b[1m(\u001b[22m\u001b[90mr_stream\u001b[39m::\u001b[0mSockets.TCPSocket, \u001b[90mw_stream\u001b[39m::\u001b[0mSockets.TCPSocket, \u001b[90mincoming\u001b[39m::\u001b[0mBool\u001b[0m\u001b[1m)\u001b[22m\n",
      "\u001b[90m   @ \u001b[39m\u001b[35mDistributed\u001b[39m \u001b[90m/usr/local/julia-1.7.2/share/julia/stdlib/v1.7/Distributed/src/\u001b[39m\u001b[90m\u001b[4mprocess_messages.jl:126\u001b[24m\u001b[39m\n",
      " [9] \u001b[0m\u001b[1m(::Distributed.var\"#99#100\"{Sockets.TCPSocket, Sockets.TCPSocket, Bool})\u001b[22m\u001b[0m\u001b[1m(\u001b[22m\u001b[0m\u001b[1m)\u001b[22m\n",
      "\u001b[90m   @ \u001b[39m\u001b[35mDistributed\u001b[39m \u001b[90m./\u001b[39m\u001b[90m\u001b[4mtask.jl:423\u001b[24m\u001b[39m\n"
     ]
    },
    {
     "ename": "LoadError",
     "evalue": "ProcessExitedException(2)",
     "output_type": "error",
     "traceback": [
      "ProcessExitedException(2)",
      "",
      "Stacktrace:",
      "  [1] (::Base.var\"#892#894\")(x::Task)",
      "    @ Base ./asyncmap.jl:177",
      "  [2] foreach(f::Base.var\"#892#894\", itr::Vector{Any})",
      "    @ Base ./abstractarray.jl:2694",
      "  [3] maptwice(wrapped_f::Function, chnl::Channel{Any}, worker_tasks::Vector{Any}, c::Vector{Tuple{Vector{Vector{Float64}}, inputParms, Dense{typeof(identity), Matrix{Float32}, Vector{Float32}}}})",
      "    @ Base ./asyncmap.jl:177",
      "  [4] wrap_n_exec_twice",
      "    @ ./asyncmap.jl:153 [inlined]",
      "  [5] #async_usemap#877",
      "    @ ./asyncmap.jl:103 [inlined]",
      "  [6] #asyncmap#876",
      "    @ ./asyncmap.jl:81 [inlined]",
      "  [7] pmap(f::Function, p::WorkerPool, c::Vector{Tuple{Vector{Vector{Float64}}, inputParms, Dense{typeof(identity), Matrix{Float32}, Vector{Float32}}}}; distributed::Bool, batch_size::Int64, on_error::Nothing, retry_delays::Vector{Any}, retry_check::Nothing)",
      "    @ Distributed /usr/local/julia-1.7.2/share/julia/stdlib/v1.7/Distributed/src/pmap.jl:126",
      "  [8] pmap",
      "    @ /usr/local/julia-1.7.2/share/julia/stdlib/v1.7/Distributed/src/pmap.jl:101 [inlined]",
      "  [9] #pmap#227",
      "    @ /usr/local/julia-1.7.2/share/julia/stdlib/v1.7/Distributed/src/pmap.jl:156 [inlined]",
      " [10] pmap",
      "    @ /usr/local/julia-1.7.2/share/julia/stdlib/v1.7/Distributed/src/pmap.jl:156 [inlined]",
      " [11] main(conf::Vector{Vector{Float64}}, parameters::inputParms, model::Dense{typeof(identity), Matrix{Float32}, Vector{Float32}})",
      "    @ Main ./In[7]:13",
      " [12] top-level scope",
      "    @ In[8]:1",
      " [13] eval",
      "    @ ./boot.jl:373 [inlined]",
      " [14] include_string(mapexpr::typeof(REPL.softscope), mod::Module, code::String, filename::String)",
      "    @ Base ./loading.jl:1196"
     ]
    }
   ],
   "source": [
    "outputs = main(conf, parameters, model);"
   ]
  },
  {
   "cell_type": "code",
   "execution_count": null,
   "id": "0a73c909",
   "metadata": {},
   "outputs": [],
   "source": []
  }
 ],
 "metadata": {
  "kernelspec": {
   "display_name": "Julia 1.7.2",
   "language": "julia",
   "name": "julia-1.7"
  },
  "language_info": {
   "file_extension": ".jl",
   "mimetype": "application/julia",
   "name": "julia",
   "version": "1.7.2"
  }
 },
 "nbformat": 4,
 "nbformat_minor": 5
}
