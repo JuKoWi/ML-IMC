{
 "cells": [
  {
   "cell_type": "code",
   "execution_count": 1,
   "metadata": {},
   "outputs": [
    {
     "name": "stdout",
     "output_type": "stream",
     "text": [
      "Running ML-IMC in the training mode.\n",
      "Building a model...\n",
      "Chain(Dense(20 => 20, relu; bias=false), Dense(20 => 20, relu; bias=false), Dense(20 => 1; bias=false))\n",
      "   Number of layers: 4 \n",
      "   Number of neurons in each layer: [20, 20, 20, 1]\n"
     ]
    },
    {
     "data": {
      "text/plain": [
       "(Chain(Dense(20 => 20, relu; bias=false), Dense(20 => 20, relu; bias=false), Dense(20 => 1; bias=false)), AMSGrad(0.001, (0.9, 0.999), 1.0e-8, IdDict{Any, Any}()), Any[[0.0, 0.0, 0.0, 0.0, 0.0, 0.0, 0.0, 0.0, 0.0, 0.0  …  1.004, 1.005, 1.006, 1.005, 1.006, 1.006, 1.007, 1.007, 1.007, 1.007], [0.0, 0.0, 0.0, 0.0, 0.0, 0.0, 0.0, 0.0, 0.0, 0.0  …  1.003, 1.003, 1.003, 1.004, 1.004, 1.004, 1.005, 1.005, 1.004, 1.005], [0.0, 0.0, 0.0, 0.0, 0.0, 0.0, 0.0, 0.0, 0.0, 0.0  …  1.004, 1.004, 1.004, 1.005, 1.005, 1.005, 1.005, 1.005, 1.005, 1.005], [0.0, 0.0, 0.0, 0.0, 0.0, 0.0, 0.0, 0.0, 0.0, 0.0  …  1.004, 1.004, 1.005, 1.004, 1.006, 1.003, 1.004, 1.004, 1.005, 1.004]])"
      ]
     },
     "execution_count": 1,
     "metadata": {},
     "output_type": "execute_result"
    }
   ],
   "source": [
    "using LinearAlgebra\n",
    "using Dates\n",
    "\n",
    "using Plots\n",
    "using BenchmarkTools\n",
    "\n",
    "BLAS.set_num_threads(1)\n",
    "\n",
    "include(\"src/io.jl\")\n",
    "include(\"src/distances.jl\")\n",
    "include(\"src/optimizer.jl\")\n",
    "include(\"src/network.jl\")\n",
    "include(\"src/base.jl\")\n",
    "include(\"src/pretraining.jl\")\n",
    "\n",
    "# Initialize the parameters\n",
    "globalParms, MCParms, NNParms, preTrainParms, systemParmsList = parametersInit()\n",
    "\n",
    "# Initialize the input data\n",
    "inputs = inputInit(globalParms, NNParms, preTrainParms, systemParmsList)\n",
    "if globalParms.mode == \"training\"\n",
    "    model, opt, refRDFs = inputs\n",
    "else\n",
    "    model = inputs\n",
    "end"
   ]
  },
  {
   "cell_type": "code",
   "execution_count": 2,
   "metadata": {},
   "outputs": [
    {
     "data": {
      "text/plain": [
       "systemParameters(\"100CH3OH-CG\", \"methanol-data/100CH3OH/100CH3OH-CG-200.xtc\", \"methanol-data/100CH3OH/100CH3OH-CG.pdb\", 512, \"MET\", [32.433, 32.433, 32.433], 34116.256126737, \"methanol-data/100CH3OH/100CH3OH-CG.rdf\", 300, 0.05, 0.0, 298.15, 0.40339559569659034, 1.5, 0.5)"
      ]
     },
     "execution_count": 2,
     "metadata": {},
     "output_type": "execute_result"
    }
   ],
   "source": [
    "systemParms = systemParmsList[1]"
   ]
  },
  {
   "cell_type": "code",
   "execution_count": 3,
   "metadata": {},
   "outputs": [
    {
     "data": {
      "text/plain": [
       "3×512 Chemfiles.ChemfilesArray:\n",
       " 18.08  15.83  13.55  14.73  12.49  …  17.62   4.33  24.61   8.32   0.52\n",
       "  4.76  32.47  12.07  18.75  32.29     14.16  -0.4   11.53  26.35  23.4\n",
       " 27.28  31.76  13.96   4.45   3.85      3.67  24.95  29.58  21.27  29.59"
      ]
     },
     "execution_count": 3,
     "metadata": {},
     "output_type": "execute_result"
    }
   ],
   "source": [
    "traj = readXTC(systemParms)\n",
    "frame = read_step(traj, 1)\n",
    "coordinates = positions(frame)"
   ]
  },
  {
   "cell_type": "code",
   "execution_count": 4,
   "metadata": {},
   "outputs": [
    {
     "data": {
      "text/plain": [
       "512×512 Matrix{Float64}:\n",
       "  0.0       7.09189  15.855    17.4607   …   9.68317  15.981    20.8271\n",
       "  7.09189   0.0      19.4916   14.7913      14.8578   14.2792   17.9268\n",
       " 15.855    19.4916    0.0      11.6814      19.1468   16.8733   23.2905\n",
       " 17.4607   14.7913   11.6814    0.0         14.4029   18.7578   16.7659\n",
       " 12.0278    5.86375  16.1165   13.7371      18.4128   16.9396   16.4657\n",
       "  6.82342   7.67516  16.2445   13.3721   …  12.6422   17.2571   20.5049\n",
       " 13.0989   18.7139   17.984    24.9762      11.0264   17.6202   18.7331\n",
       " 11.3263   10.5723   11.0429   10.3943      14.228    21.6119   20.0425\n",
       " 19.6562   18.8416   18.4182   13.9998      13.8353   11.5905    6.22577\n",
       " 15.2346   17.5955   23.1113   24.493       16.9502   11.3124   10.3767\n",
       "  9.03241  12.3969   11.9791   16.8481   …  15.5818   15.1848   18.55\n",
       " 15.0417   17.157    15.4381   15.8653      13.3199   15.7629   12.5644\n",
       " 15.2687   12.0559    9.79153  15.5865      16.0364   18.6892   24.1867\n",
       "  ⋮                                      ⋱             ⋮        \n",
       " 18.5604   21.4275   18.8737   15.9093   …  10.0038   22.6159   12.0208\n",
       " 14.737    17.6509    4.26218  14.6928      20.0959   16.5225   24.6851\n",
       " 20.7774   17.2833   22.0468   16.4396      18.7991   17.4602    7.92373\n",
       " 16.1967   17.0608   14.5648   13.7263      22.3921    8.71487  20.2966\n",
       " 15.9904   13.9864   21.0911   22.0198      14.0051   12.9877   11.7619\n",
       " 11.8233   16.6807   10.0192   15.127    …  15.0627   13.3963   15.6518\n",
       " 13.5979   17.0023   12.2694   14.1772      10.6025   13.5239   16.8159\n",
       " 13.1025   15.2488   11.2613    5.47984     10.1112   21.538    19.3876\n",
       " 14.87     13.3659   19.0076   21.0227      17.8513    8.07324  10.7574\n",
       "  9.68317  14.8578   19.1468   14.4029       0.0      23.5383   14.6793\n",
       " 15.981    14.2792   16.8733   18.7578   …  23.5383    0.0      11.7799\n",
       " 20.8271   17.9268   23.2905   16.7659      14.6793   11.7799    0.0"
      ]
     },
     "execution_count": 4,
     "metadata": {},
     "output_type": "execute_result"
    }
   ],
   "source": [
    "distanceMatrix = buildDistanceMatrix(frame)"
   ]
  },
  {
   "attachments": {},
   "cell_type": "markdown",
   "metadata": {},
   "source": [
    "It seems that one can change eta parameters instead of Rs!\n",
    "Rs can stay zero or be shifted a little bit (for H2O in n2p2 Rs is from 0 to ~1 Å)\n",
    "\n",
    "eta parameter on the other hand, goes from 0 to 1.5 Bohr^-2 in the same example:\n",
    "[0.001; 0.01, 0.03, 0.06, 0.15, 0.30, 0.60, 1.50 Bohr^-2]\n"
   ]
  },
  {
   "cell_type": "markdown",
   "metadata": {},
   "source": [
    "\n",
    "Converting to sigmas Å:"
   ]
  },
  {
   "cell_type": "code",
   "execution_count": 37,
   "metadata": {},
   "outputs": [
    {
     "data": {
      "text/plain": [
       "8-element Vector{Float64}:\n",
       " 11.833271736928888\n",
       "  3.7420090860392095\n",
       "  2.1604499531347634\n",
       "  1.52766881227575\n",
       "  0.9661825914391131\n",
       "  0.6831942622709883\n",
       "  0.48309129571955656\n",
       "  0.30553376245514996"
      ]
     },
     "execution_count": 37,
     "metadata": {},
     "output_type": "execute_result"
    }
   ],
   "source": [
    "map(x -> sqrt(1 / (2 * x)), [0.001, 0.01, 0.03, 0.06, 0.15, 0.30, 0.60, 1.50]) .* 0.5292"
   ]
  },
  {
   "attachments": {},
   "cell_type": "markdown",
   "metadata": {},
   "source": [
    "Converting to etas Å$^{-2}$:"
   ]
  },
  {
   "cell_type": "code",
   "execution_count": 39,
   "metadata": {},
   "outputs": [
    {
     "data": {
      "text/plain": [
       "8-element Vector{Float64}:\n",
       " 0.0035707572690619875\n",
       " 0.035707572690619874\n",
       " 0.10712271807185962\n",
       " 0.21424543614371924\n",
       " 0.5356135903592981\n",
       " 1.0712271807185962\n",
       " 2.1424543614371925\n",
       " 5.356135903592981"
      ]
     },
     "execution_count": 39,
     "metadata": {},
     "output_type": "execute_result"
    }
   ],
   "source": [
    "map(x -> 0.5292^-2 * x, [0.001, 0.01, 0.03, 0.06, 0.15, 0.30, 0.60, 1.50])"
   ]
  },
  {
   "attachments": {},
   "cell_type": "markdown",
   "metadata": {},
   "source": [
    "The lambda should be +1 or -1 (shifts the maxima of cosine to 0 or pi radians)"
   ]
  },
  {
   "attachments": {},
   "cell_type": "markdown",
   "metadata": {},
   "source": [
    "\n",
    "etas for angular symmetry functions are usually less than zero, from 1E-3 to 1E-1:\n",
    "\n",
    "Converting to Å$^{-2}$:"
   ]
  },
  {
   "cell_type": "code",
   "execution_count": 43,
   "metadata": {},
   "outputs": [
    {
     "data": {
      "text/plain": [
       "4-element Vector{Float64}:\n",
       " 0.0035707572690619875\n",
       " 0.035707572690619874\n",
       " 0.10712271807185962\n",
       " 0.24995300883433913"
      ]
     },
     "execution_count": 43,
     "metadata": {},
     "output_type": "execute_result"
    }
   ],
   "source": [
    "map(x -> 0.5292^-2 * x, [0.001, 0.01, 0.03, 0.07])"
   ]
  },
  {
   "cell_type": "markdown",
   "metadata": {},
   "source": [
    "\n",
    "zetas are set to 1-6 (high zeta gives a narrower range of nonzero values)\n",
    "\n",
    "Now I'm going to compute the narrow angular symmetry function for a single atom with fixed parameters."
   ]
  },
  {
   "cell_type": "code",
   "execution_count": 46,
   "metadata": {},
   "outputs": [],
   "source": [
    "rmax = 6 # Å\n",
    "rs = 0 # Å \n",
    "eta = 0.1 # Å^-2\n",
    "lambda = 1\n",
    "zeta = 1;"
   ]
  },
  {
   "cell_type": "code",
   "execution_count": 48,
   "metadata": {},
   "outputs": [],
   "source": [
    "distanceVector = distanceMatrix[:, 1];"
   ]
  },
  {
   "attachments": {},
   "cell_type": "markdown",
   "metadata": {},
   "source": [
    "I'm thinking about using sparse arrays for saving indeces of non-zero values of G3:"
   ]
  },
  {
   "cell_type": "code",
   "execution_count": 96,
   "metadata": {},
   "outputs": [],
   "source": [
    "using SparseArrays"
   ]
  },
  {
   "cell_type": "code",
   "execution_count": 113,
   "metadata": {},
   "outputs": [
    {
     "data": {
      "text/plain": [
       "512"
      ]
     },
     "execution_count": 113,
     "metadata": {},
     "output_type": "execute_result"
    }
   ],
   "source": [
    "N = length(distanceVector)"
   ]
  },
  {
   "cell_type": "code",
   "execution_count": 151,
   "metadata": {},
   "outputs": [
    {
     "data": {
      "text/plain": [
       "buildNeighborMatrix1 (generic function with 1 method)"
      ]
     },
     "execution_count": 151,
     "metadata": {},
     "output_type": "execute_result"
    }
   ],
   "source": [
    "function buildNeighborMatrix1(distanceVector, rmax)\n",
    "    N = length(distanceVector)\n",
    "    withinCutoff = Matrix{Bool}(zeros(N, N))\n",
    "    for k in eachindex(distanceVector)\n",
    "        for j in 1:k-1\n",
    "            withinCutoff[j, k] = distanceVector[j] < rmax && distanceVector[k] < rmax \n",
    "        end\n",
    "    end\n",
    "    return (withinCutoff)\n",
    "end"
   ]
  },
  {
   "cell_type": "code",
   "execution_count": 154,
   "metadata": {},
   "outputs": [
    {
     "data": {
      "text/plain": [
       "buildNeighborMatrix2 (generic function with 1 method)"
      ]
     },
     "execution_count": 154,
     "metadata": {},
     "output_type": "execute_result"
    }
   ],
   "source": [
    "function buildNeighborMatrix2(distanceVector, rmax)\n",
    "    N = length(distanceVector)\n",
    "    withinCutoff = SparseMatrixCSC{Bool, Int64}(spzeros(N, N));\n",
    "    for k in eachindex(distanceVector)\n",
    "        for j in 1:k-1\n",
    "            withinCutoff[j, k] = distanceVector[j] < rmax && distanceVector[k] < rmax \n",
    "        end\n",
    "    end\n",
    "    return (withinCutoff)\n",
    "end"
   ]
  },
  {
   "cell_type": "code",
   "execution_count": 140,
   "metadata": {},
   "outputs": [],
   "source": [
    "withinCutoffDefault = buildNeighborMatrix1(distanceVector, rmax);"
   ]
  },
  {
   "cell_type": "code",
   "execution_count": 142,
   "metadata": {},
   "outputs": [],
   "source": [
    "withinCutoffSparse = buildNeighborMatrix2(distanceVector, rmax);"
   ]
  },
  {
   "cell_type": "code",
   "execution_count": 145,
   "metadata": {},
   "outputs": [
    {
     "data": {
      "text/plain": [
       "true"
      ]
     },
     "execution_count": 145,
     "metadata": {},
     "output_type": "execute_result"
    }
   ],
   "source": [
    "Matrix{Bool}(withinCutoffSparse) == withinCutoffDefault"
   ]
  },
  {
   "cell_type": "code",
   "execution_count": 150,
   "metadata": {},
   "outputs": [
    {
     "name": "stdout",
     "output_type": "stream",
     "text": [
      "  367.438 μs (4 allocations: 2.25 MiB)\n"
     ]
    }
   ],
   "source": [
    "@btime buildNeighborMatrix1($distanceVector, $rmax);"
   ]
  },
  {
   "cell_type": "code",
   "execution_count": 155,
   "metadata": {},
   "outputs": [
    {
     "name": "stdout",
     "output_type": "stream",
     "text": [
      "  654.971 μs (12 allocations: 10.77 KiB)\n"
     ]
    }
   ],
   "source": [
    "@btime buildNeighborMatrix2($distanceVector, $rmax);"
   ]
  },
  {
   "attachments": {},
   "cell_type": "markdown",
   "metadata": {},
   "source": [
    "Building a sparse matrix takes longer time, but requires much less memory!"
   ]
  },
  {
   "cell_type": "code",
   "execution_count": 159,
   "metadata": {},
   "outputs": [
    {
     "name": "stdout",
     "output_type": "stream",
     "text": [
      "  2.051 μs (0 allocations: 0 bytes)\n"
     ]
    }
   ],
   "source": [
    "@btime sum($withinCutoffDefault);"
   ]
  },
  {
   "cell_type": "code",
   "execution_count": 161,
   "metadata": {},
   "outputs": [
    {
     "name": "stdout",
     "output_type": "stream",
     "text": [
      "  357.769 μs (0 allocations: 0 bytes)\n"
     ]
    }
   ],
   "source": [
    "@btime sum($withinCutoffSparse);"
   ]
  },
  {
   "attachments": {},
   "cell_type": "markdown",
   "metadata": {},
   "source": [
    "It is much slower to access the elements in the sparse matrices! Maybe I should use the normal ones..."
   ]
  },
  {
   "cell_type": "code",
   "execution_count": 163,
   "metadata": {},
   "outputs": [
    {
     "name": "stdout",
     "output_type": "stream",
     "text": [
      "  190.539 μs (4 allocations: 2.25 MiB)\n"
     ]
    }
   ],
   "source": [
    "@btime Matrix{Bool}(zeros(N, N));"
   ]
  },
  {
   "attachments": {},
   "cell_type": "markdown",
   "metadata": {},
   "source": [
    "Half of the time is needed to allocate the matrix! If the matrix is passed to the function, then it should be twice as fast!"
   ]
  },
  {
   "cell_type": "code",
   "execution_count": 297,
   "metadata": {},
   "outputs": [
    {
     "data": {
      "text/plain": [
       "updateNeighborMatrix! (generic function with 1 method)"
      ]
     },
     "execution_count": 297,
     "metadata": {},
     "output_type": "execute_result"
    }
   ],
   "source": [
    "function updateNeighborMatrix!(withinCutoff, distanceVector, rmax)\n",
    "    for k in eachindex(distanceVector)\n",
    "        for j in 1:k-1\n",
    "            withinCutoff[j, k] = 0 < distanceVector[j] < rmax && 0 < distanceVector[k] < rmax\n",
    "        end\n",
    "    end\n",
    "    return (withinCutoff)\n",
    "end"
   ]
  },
  {
   "cell_type": "code",
   "execution_count": 298,
   "metadata": {},
   "outputs": [],
   "source": [
    "withinCutoff = Matrix{Bool}(zeros(N, N));"
   ]
  },
  {
   "cell_type": "code",
   "execution_count": 299,
   "metadata": {},
   "outputs": [],
   "source": [
    "withinCutoff = updateNeighborMatrix!(withinCutoff, distanceVector, rmax);"
   ]
  },
  {
   "cell_type": "code",
   "execution_count": 300,
   "metadata": {},
   "outputs": [
    {
     "name": "stdout",
     "output_type": "stream",
     "text": [
      "  84.465 μs (0 allocations: 0 bytes)\n"
     ]
    }
   ],
   "source": [
    "@btime updateNeighborMatrix!($withinCutoff, $distanceVector, $rmax);"
   ]
  },
  {
   "cell_type": "code",
   "execution_count": 301,
   "metadata": {},
   "outputs": [
    {
     "data": {
      "text/plain": [
       "78"
      ]
     },
     "execution_count": 301,
     "metadata": {},
     "output_type": "execute_result"
    }
   ],
   "source": [
    "sum(withinCutoff)"
   ]
  },
  {
   "cell_type": "code",
   "execution_count": 203,
   "metadata": {},
   "outputs": [
    {
     "name": "stdout",
     "output_type": "stream",
     "text": [
      "  15.935 ns (0 allocations: 0 bytes)\n"
     ]
    },
    {
     "data": {
      "text/plain": [
       "7.091892808138942"
      ]
     },
     "execution_count": 203,
     "metadata": {},
     "output_type": "execute_result"
    }
   ],
   "source": [
    "@btime distance(frame, 0, 1)"
   ]
  },
  {
   "cell_type": "code",
   "execution_count": 259,
   "metadata": {},
   "outputs": [],
   "source": [
    "vector_ij = positions(frame)[:, 2] .- positions(frame)[:, 1];\n",
    "vector_ik = positions(frame)[:, 3] .- positions(frame)[:, 1];"
   ]
  },
  {
   "cell_type": "code",
   "execution_count": 260,
   "metadata": {},
   "outputs": [
    {
     "name": "stdout",
     "output_type": "stream",
     "text": [
      "  6.202 ns (0 allocations: 0 bytes)\n"
     ]
    },
    {
     "data": {
      "text/plain": [
       "153.0790194234857"
      ]
     },
     "execution_count": 260,
     "metadata": {},
     "output_type": "execute_result"
    }
   ],
   "source": [
    "@btime dot($vector_ij, $vector_ik)"
   ]
  },
  {
   "cell_type": "code",
   "execution_count": 261,
   "metadata": {},
   "outputs": [
    {
     "name": "stdout",
     "output_type": "stream",
     "text": [
      "  20.077 ns (1 allocation: 80 bytes)\n"
     ]
    },
    {
     "data": {
      "text/plain": [
       "153.0790194234857"
      ]
     },
     "execution_count": 261,
     "metadata": {},
     "output_type": "execute_result"
    }
   ],
   "source": [
    "@btime reduce(+, $vector_ij .* $vector_ik)"
   ]
  },
  {
   "cell_type": "code",
   "execution_count": 364,
   "metadata": {},
   "outputs": [
    {
     "data": {
      "text/plain": [
       "getTripletGeometry (generic function with 1 method)"
      ]
     },
     "execution_count": 364,
     "metadata": {},
     "output_type": "execute_result"
    }
   ],
   "source": [
    "function getTripletGeometry(frame, i, j, k)\n",
    "    @assert i != j\n",
    "    @assert i != k\n",
    "    @assert k != j\n",
    "    vector_ij = positions(frame)[:, j] .- positions(frame)[:, i]\n",
    "    vector_ik = positions(frame)[:, k] .- positions(frame)[:, i]\n",
    "    # Chemfiles has 0-based arrays\n",
    "    distance_ij = distance(frame, i - 1, j - 1)\n",
    "    distance_ik = distance(frame, i - 1, k - 1)\n",
    "    distance_kj = distance(frame, k - 1, j - 1)\n",
    "    cosAngle = dot(vector_ij, vector_ik) / (distance_ij * distance_ik)\n",
    "    return (cosAngle, distance_ij, distance_ik, distance_kj)\n",
    "end"
   ]
  },
  {
   "cell_type": "code",
   "execution_count": 302,
   "metadata": {},
   "outputs": [
    {
     "data": {
      "text/plain": [
       "78-element Vector{CartesianIndex{2}}:\n",
       " CartesianIndex(14, 27)\n",
       " CartesianIndex(14, 129)\n",
       " CartesianIndex(27, 129)\n",
       " CartesianIndex(14, 240)\n",
       " CartesianIndex(27, 240)\n",
       " CartesianIndex(129, 240)\n",
       " CartesianIndex(14, 284)\n",
       " CartesianIndex(27, 284)\n",
       " CartesianIndex(129, 284)\n",
       " CartesianIndex(240, 284)\n",
       " CartesianIndex(14, 285)\n",
       " CartesianIndex(27, 285)\n",
       " CartesianIndex(129, 285)\n",
       " ⋮\n",
       " CartesianIndex(14, 483)\n",
       " CartesianIndex(27, 483)\n",
       " CartesianIndex(129, 483)\n",
       " CartesianIndex(240, 483)\n",
       " CartesianIndex(284, 483)\n",
       " CartesianIndex(285, 483)\n",
       " CartesianIndex(286, 483)\n",
       " CartesianIndex(328, 483)\n",
       " CartesianIndex(416, 483)\n",
       " CartesianIndex(427, 483)\n",
       " CartesianIndex(443, 483)\n",
       " CartesianIndex(461, 483)"
      ]
     },
     "execution_count": 302,
     "metadata": {},
     "output_type": "execute_result"
    }
   ],
   "source": [
    "findall(x -> x != 0, withinCutoff)"
   ]
  },
  {
   "cell_type": "code",
   "execution_count": 361,
   "metadata": {},
   "outputs": [
    {
     "name": "stdout",
     "output_type": "stream",
     "text": [
      "  287.294 ns (14 allocations: 800 bytes)\n"
     ]
    },
    {
     "data": {
      "text/plain": [
       "(0.7169325422695667, 3.4314144165171827, 5.791044424571701)"
      ]
     },
     "execution_count": 361,
     "metadata": {},
     "output_type": "execute_result"
    }
   ],
   "source": [
    "@btime getTripletGeometry($frame, 1, 461, 483)"
   ]
  },
  {
   "cell_type": "code",
   "execution_count": 363,
   "metadata": {},
   "outputs": [
    {
     "name": "stdout",
     "output_type": "stream",
     "text": [
      "  299.824 ns (14 allocations: 800 bytes)\n"
     ]
    },
    {
     "data": {
      "text/plain": [
       "(0.7169325422695667, 3.4314144165171827, 5.791044424571701, 4.100949724873194)"
      ]
     },
     "execution_count": 363,
     "metadata": {},
     "output_type": "execute_result"
    }
   ],
   "source": [
    "@btime getTripletGeometry($frame, 1, 461, 483)"
   ]
  },
  {
   "cell_type": "code",
   "execution_count": 329,
   "metadata": {},
   "outputs": [
    {
     "data": {
      "text/plain": [
       "(0.7169325422695667, 3.4314144165171827, 5.791044424571701)"
      ]
     },
     "execution_count": 329,
     "metadata": {},
     "output_type": "execute_result"
    }
   ],
   "source": [
    "getTripletGeometry(frame, 1, 461, 483)"
   ]
  },
  {
   "cell_type": "code",
   "execution_count": 372,
   "metadata": {},
   "outputs": [
    {
     "data": {
      "text/plain": [
       "G9 (generic function with 3 methods)"
      ]
     },
     "execution_count": 372,
     "metadata": {},
     "output_type": "execute_result"
    }
   ],
   "source": [
    "function G9(cosAngle, distance_ij, distance_ik, cutoff, eta, zeta, lambda=1, rshift=0)\n",
    "    return (\n",
    "        (1 + lambda * cosAngle)^zeta * \n",
    "        exp(-eta * (\n",
    "                (distance_ij - rshift)^2 + \n",
    "                (distance_ik - rshift)^2)\n",
    "                ) * \n",
    "        distanceCutoff(distance_ij, cutoff) * \n",
    "        distanceCutoff(distance_ik, cutoff))\n",
    "end        "
   ]
  },
  {
   "cell_type": "code",
   "execution_count": 373,
   "metadata": {},
   "outputs": [
    {
     "data": {
      "text/plain": [
       "G3 (generic function with 3 methods)"
      ]
     },
     "execution_count": 373,
     "metadata": {},
     "output_type": "execute_result"
    }
   ],
   "source": [
    "function G3(cosAngle, distance_ij, distance_ik, distance_kj, cutoff, eta, zeta, lambda=1, rshift=0)\n",
    "    return (\n",
    "        (1 + lambda * cosAngle)^zeta * \n",
    "        exp(-eta * (\n",
    "                (distance_ij - rshift)^2 + \n",
    "                (distance_ik - rshift)^2 +\n",
    "                (distance_kj - rshift)^2)) * \n",
    "        distanceCutoff(distance_ij, cutoff) * \n",
    "        distanceCutoff(distance_ik, cutoff) *\n",
    "        distanceCutoff(distance_kj, cutoff))\n",
    "end        "
   ]
  },
  {
   "cell_type": "code",
   "execution_count": 402,
   "metadata": {},
   "outputs": [
    {
     "data": {
      "text/plain": [
       "G9total (generic function with 3 methods)"
      ]
     },
     "execution_count": 402,
     "metadata": {},
     "output_type": "execute_result"
    }
   ],
   "source": [
    "function G9total(i, frame, distanceMatrix, cutoff, eta, zeta, lambda=1.0, rshift=0.0)\n",
    "    sum = 0.0\n",
    "    # i is the index of the central atom\n",
    "    distanceVector = distanceMatrix[:, i];\n",
    "    N = length(distanceVector)\n",
    "\n",
    "    # Get indexes of valid j and k atoms\n",
    "    withinCutoff = Matrix{Bool}(zeros(N, N));\n",
    "    withinCutoff = updateNeighborMatrix!(withinCutoff, distanceVector, cutoff)\n",
    "    validPairs = findall(x -> x != 0, withinCutoff)\n",
    "    \n",
    "    for indexes in validPairs\n",
    "        j, k = Tuple(indexes)\n",
    "        cosAngle, distance_ij, distance_ik, distance_kj = getTripletGeometry(frame, i, j, k)\n",
    "        sum += G9(cosAngle, distance_ij, distance_ik, cutoff, eta, zeta, lambda, rshift)\n",
    "    end\n",
    "    return (2.0^(1.0-zeta) * sum)\n",
    "end"
   ]
  },
  {
   "cell_type": "code",
   "execution_count": 403,
   "metadata": {},
   "outputs": [
    {
     "data": {
      "text/plain": [
       "G3total (generic function with 3 methods)"
      ]
     },
     "execution_count": 403,
     "metadata": {},
     "output_type": "execute_result"
    }
   ],
   "source": [
    "function G3total(i, frame, distanceMatrix, cutoff, eta, zeta, lambda=1.0, rshift=0.0)\n",
    "    sum = 0.0\n",
    "    # i is the index of the central atom\n",
    "    distanceVector = distanceMatrix[:, i];\n",
    "    N = length(distanceVector)\n",
    "\n",
    "    # Get indexes of valid j and k atoms\n",
    "    withinCutoff = Matrix{Bool}(zeros(N, N));\n",
    "    withinCutoff = updateNeighborMatrix!(withinCutoff, distanceVector, cutoff)\n",
    "    validPairs = findall(x -> x != 0, withinCutoff)\n",
    "    \n",
    "    for indexes in validPairs\n",
    "        j, k = Tuple(indexes)\n",
    "        cosAngle, distance_ij, distance_ik, distance_kj = getTripletGeometry(frame, i, j, k)\n",
    "        sum += G3(cosAngle, distance_ij, distance_ik, distance_kj, cutoff, eta, zeta, lambda, rshift)\n",
    "    end\n",
    "    return (2.0^(1.0-zeta) * sum)\n",
    "end"
   ]
  },
  {
   "cell_type": "code",
   "execution_count": 376,
   "metadata": {},
   "outputs": [],
   "source": [
    "cutoff = 6 # Å\n",
    "rs = 0 # Å \n",
    "eta = 0.1 # Å^-2\n",
    "lambda = 1\n",
    "zeta = 1;"
   ]
  },
  {
   "cell_type": "code",
   "execution_count": 409,
   "metadata": {},
   "outputs": [
    {
     "data": {
      "text/plain": [
       "0.028941013108324705"
      ]
     },
     "execution_count": 409,
     "metadata": {},
     "output_type": "execute_result"
    }
   ],
   "source": [
    "G9total(1, frame, distanceMatrix, cutoff, eta, 1, 1)"
   ]
  },
  {
   "cell_type": "code",
   "execution_count": 410,
   "metadata": {},
   "outputs": [
    {
     "name": "stdout",
     "output_type": "stream",
     "text": [
      "  307.902 μs (28 allocations: 2.29 MiB)\n"
     ]
    },
    {
     "data": {
      "text/plain": [
       "0.00017162994385048377"
      ]
     },
     "execution_count": 410,
     "metadata": {},
     "output_type": "execute_result"
    }
   ],
   "source": [
    "@btime G9total(1, $frame, $distanceMatrix, 4, eta, zeta, lambda)"
   ]
  },
  {
   "cell_type": "code",
   "execution_count": 370,
   "metadata": {},
   "outputs": [
    {
     "name": "stdout",
     "output_type": "stream",
     "text": [
      "  331.377 μs (1106 allocations: 2.35 MiB)\n"
     ]
    },
    {
     "data": {
      "text/plain": [
       "0.028941013108324705"
      ]
     },
     "execution_count": 370,
     "metadata": {},
     "output_type": "execute_result"
    }
   ],
   "source": [
    "@btime G9total(1, $frame, $distanceMatrix, 6, eta, zeta, lambda)"
   ]
  },
  {
   "cell_type": "code",
   "execution_count": 371,
   "metadata": {},
   "outputs": [
    {
     "name": "stdout",
     "output_type": "stream",
     "text": [
      "  471.404 μs (6524 allocations: 2.65 MiB)\n"
     ]
    },
    {
     "data": {
      "text/plain": [
       "0.15068459491431355"
      ]
     },
     "execution_count": 371,
     "metadata": {},
     "output_type": "execute_result"
    }
   ],
   "source": [
    "@btime G9total(1, $frame, $distanceMatrix, 8, eta, zeta, lambda)"
   ]
  },
  {
   "cell_type": "code",
   "execution_count": 379,
   "metadata": {},
   "outputs": [
    {
     "data": {
      "text/plain": [
       "0.0006120032153743085"
      ]
     },
     "execution_count": 379,
     "metadata": {},
     "output_type": "execute_result"
    }
   ],
   "source": [
    "G3total(1, frame, distanceMatrix, cutoff, eta, zeta, lambda)"
   ]
  },
  {
   "cell_type": "code",
   "execution_count": 380,
   "metadata": {},
   "outputs": [
    {
     "name": "stdout",
     "output_type": "stream",
     "text": [
      "  306.303 μs (28 allocations: 2.29 MiB)\n"
     ]
    },
    {
     "data": {
      "text/plain": [
       "0.0"
      ]
     },
     "execution_count": 380,
     "metadata": {},
     "output_type": "execute_result"
    }
   ],
   "source": [
    "@btime G3total(1, $frame, $distanceMatrix, 4, eta, zeta, lambda)"
   ]
  },
  {
   "cell_type": "code",
   "execution_count": 381,
   "metadata": {},
   "outputs": [
    {
     "name": "stdout",
     "output_type": "stream",
     "text": [
      "  334.992 μs (1106 allocations: 2.35 MiB)\n"
     ]
    },
    {
     "data": {
      "text/plain": [
       "0.0006120032153743085"
      ]
     },
     "execution_count": 381,
     "metadata": {},
     "output_type": "execute_result"
    }
   ],
   "source": [
    "@btime G3total(1, $frame, $distanceMatrix, 6, eta, zeta, lambda)"
   ]
  },
  {
   "cell_type": "code",
   "execution_count": 382,
   "metadata": {},
   "outputs": [
    {
     "name": "stdout",
     "output_type": "stream",
     "text": [
      "  492.737 μs (6524 allocations: 2.65 MiB)\n"
     ]
    },
    {
     "data": {
      "text/plain": [
       "0.006419453311174974"
      ]
     },
     "execution_count": 382,
     "metadata": {},
     "output_type": "execute_result"
    }
   ],
   "source": [
    "@btime G3total(1, $frame, $distanceMatrix, 8, eta, zeta, lambda)"
   ]
  },
  {
   "cell_type": "code",
   "execution_count": 390,
   "metadata": {},
   "outputs": [
    {
     "name": "stdout",
     "output_type": "stream",
     "text": [
      "  2.492 μs (0 allocations: 0 bytes)\n"
     ]
    },
    {
     "data": {
      "text/plain": [
       "1.2261216304304188"
      ]
     },
     "execution_count": 390,
     "metadata": {},
     "output_type": "execute_result"
    }
   ],
   "source": [
    "@btime G2total($distanceVector, 6, 0, 2)"
   ]
  },
  {
   "cell_type": "code",
   "execution_count": null,
   "metadata": {},
   "outputs": [],
   "source": []
  }
 ],
 "metadata": {
  "kernelspec": {
   "display_name": "Julia 1.8.1",
   "language": "julia",
   "name": "julia-1.8"
  },
  "language_info": {
   "file_extension": ".jl",
   "mimetype": "application/julia",
   "name": "julia",
   "version": "1.8.1"
  },
  "orig_nbformat": 4
 },
 "nbformat": 4,
 "nbformat_minor": 2
}
