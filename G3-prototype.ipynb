{
 "cells": [
  {
   "cell_type": "code",
   "execution_count": 3,
   "metadata": {},
   "outputs": [
    {
     "name": "stdout",
     "output_type": "stream",
     "text": [
      "Running ML-IMC in the training mode.\n",
      "Building a model...\n",
      "Chain(Dense(20 => 20, relu; bias=false), Dense(20 => 20, relu; bias=false), Dense(20 => 1; bias=false))\n",
      "   Number of layers: 4 \n",
      "   Number of neurons in each layer: [20, 20, 20, 1]\n"
     ]
    },
    {
     "data": {
      "text/plain": [
       "(Chain(Dense(20 => 20, relu; bias=false), Dense(20 => 20, relu; bias=false), Dense(20 => 1; bias=false)), AMSGrad(0.001, (0.9, 0.999), 1.0e-8, IdDict{Any, Any}()), Any[[0.0, 0.0, 0.0, 0.0, 0.0, 0.0, 0.0, 0.0, 0.0, 0.0  …  1.004, 1.005, 1.006, 1.005, 1.006, 1.006, 1.007, 1.007, 1.007, 1.007], [0.0, 0.0, 0.0, 0.0, 0.0, 0.0, 0.0, 0.0, 0.0, 0.0  …  1.003, 1.003, 1.003, 1.004, 1.004, 1.004, 1.005, 1.005, 1.004, 1.005], [0.0, 0.0, 0.0, 0.0, 0.0, 0.0, 0.0, 0.0, 0.0, 0.0  …  1.004, 1.004, 1.004, 1.005, 1.005, 1.005, 1.005, 1.005, 1.005, 1.005], [0.0, 0.0, 0.0, 0.0, 0.0, 0.0, 0.0, 0.0, 0.0, 0.0  …  1.004, 1.004, 1.005, 1.004, 1.006, 1.003, 1.004, 1.004, 1.005, 1.004]])"
      ]
     },
     "execution_count": 3,
     "metadata": {},
     "output_type": "execute_result"
    }
   ],
   "source": [
    "using LinearAlgebra\n",
    "using Dates\n",
    "\n",
    "using Plots\n",
    "using BenchmarkTools\n",
    "\n",
    "BLAS.set_num_threads(1)\n",
    "\n",
    "include(\"src/io.jl\")\n",
    "include(\"src/distances.jl\")\n",
    "include(\"src/optimizer.jl\")\n",
    "include(\"src/network.jl\")\n",
    "include(\"src/base.jl\")\n",
    "include(\"src/pretraining.jl\")\n",
    "\n",
    "# Initialize the parameters\n",
    "globalParms, MCParms, NNParms, preTrainParms, systemParmsList = parametersInit()\n",
    "\n",
    "# Initialize the input data\n",
    "inputs = inputInit(globalParms, NNParms, preTrainParms, systemParmsList)\n",
    "if globalParms.mode == \"training\"\n",
    "    model, opt, refRDFs = inputs\n",
    "else\n",
    "    model = inputs\n",
    "end"
   ]
  },
  {
   "cell_type": "code",
   "execution_count": 4,
   "metadata": {},
   "outputs": [
    {
     "data": {
      "text/plain": [
       "systemParameters(\"100CH3OH-CG\", \"methanol-data/100CH3OH/100CH3OH-CG-200.xtc\", \"methanol-data/100CH3OH/100CH3OH-CG.pdb\", 512, \"MET\", [32.433, 32.433, 32.433], 34116.256126737, \"methanol-data/100CH3OH/100CH3OH-CG.rdf\", 300, 0.05, 0.0, 298.15, 0.40339559569659034, 1.5, 0.5)"
      ]
     },
     "execution_count": 4,
     "metadata": {},
     "output_type": "execute_result"
    }
   ],
   "source": [
    "systemParms = systemParmsList[1]"
   ]
  },
  {
   "cell_type": "code",
   "execution_count": 5,
   "metadata": {},
   "outputs": [
    {
     "data": {
      "text/plain": [
       "3×512 Chemfiles.ChemfilesArray:\n",
       " 18.08  15.83  13.55  14.73  12.49  …  17.62   4.33  24.61   8.32   0.52\n",
       "  4.76  32.47  12.07  18.75  32.29     14.16  -0.4   11.53  26.35  23.4\n",
       " 27.28  31.76  13.96   4.45   3.85      3.67  24.95  29.58  21.27  29.59"
      ]
     },
     "execution_count": 5,
     "metadata": {},
     "output_type": "execute_result"
    }
   ],
   "source": [
    "traj = readXTC(systemParms)\n",
    "frame = read_step(traj, 1)\n",
    "coordinates = positions(frame)"
   ]
  },
  {
   "cell_type": "code",
   "execution_count": 6,
   "metadata": {},
   "outputs": [
    {
     "data": {
      "text/plain": [
       "512×512 Matrix{Float64}:\n",
       "  0.0       7.09189  15.855    17.4607   …   9.68317  15.981    20.8271\n",
       "  7.09189   0.0      19.4916   14.7913      14.8578   14.2792   17.9268\n",
       " 15.855    19.4916    0.0      11.6814      19.1468   16.8733   23.2905\n",
       " 17.4607   14.7913   11.6814    0.0         14.4029   18.7578   16.7659\n",
       " 12.0278    5.86375  16.1165   13.7371      18.4128   16.9396   16.4657\n",
       "  6.82342   7.67516  16.2445   13.3721   …  12.6422   17.2571   20.5049\n",
       " 13.0989   18.7139   17.984    24.9762      11.0264   17.6202   18.7331\n",
       " 11.3263   10.5723   11.0429   10.3943      14.228    21.6119   20.0425\n",
       " 19.6562   18.8416   18.4182   13.9998      13.8353   11.5905    6.22577\n",
       " 15.2346   17.5955   23.1113   24.493       16.9502   11.3124   10.3767\n",
       "  9.03241  12.3969   11.9791   16.8481   …  15.5818   15.1848   18.55\n",
       " 15.0417   17.157    15.4381   15.8653      13.3199   15.7629   12.5644\n",
       " 15.2687   12.0559    9.79153  15.5865      16.0364   18.6892   24.1867\n",
       "  ⋮                                      ⋱             ⋮        \n",
       " 18.5604   21.4275   18.8737   15.9093   …  10.0038   22.6159   12.0208\n",
       " 14.737    17.6509    4.26218  14.6928      20.0959   16.5225   24.6851\n",
       " 20.7774   17.2833   22.0468   16.4396      18.7991   17.4602    7.92373\n",
       " 16.1967   17.0608   14.5648   13.7263      22.3921    8.71487  20.2966\n",
       " 15.9904   13.9864   21.0911   22.0198      14.0051   12.9877   11.7619\n",
       " 11.8233   16.6807   10.0192   15.127    …  15.0627   13.3963   15.6518\n",
       " 13.5979   17.0023   12.2694   14.1772      10.6025   13.5239   16.8159\n",
       " 13.1025   15.2488   11.2613    5.47984     10.1112   21.538    19.3876\n",
       " 14.87     13.3659   19.0076   21.0227      17.8513    8.07324  10.7574\n",
       "  9.68317  14.8578   19.1468   14.4029       0.0      23.5383   14.6793\n",
       " 15.981    14.2792   16.8733   18.7578   …  23.5383    0.0      11.7799\n",
       " 20.8271   17.9268   23.2905   16.7659      14.6793   11.7799    0.0"
      ]
     },
     "execution_count": 6,
     "metadata": {},
     "output_type": "execute_result"
    }
   ],
   "source": [
    "distanceMatrix = buildDistanceMatrix(frame)"
   ]
  },
  {
   "cell_type": "code",
   "execution_count": 8,
   "metadata": {},
   "outputs": [
    {
     "data": {
      "text/plain": [
       "0.125"
      ]
     },
     "execution_count": 8,
     "metadata": {},
     "output_type": "execute_result"
    }
   ],
   "source": [
    "sigma = NNParms.sigma\n",
    "η = 1 / (2 * sigma * sigma)"
   ]
  },
  {
   "cell_type": "code",
   "execution_count": null,
   "metadata": {},
   "outputs": [],
   "source": []
  }
 ],
 "metadata": {
  "kernelspec": {
   "display_name": "Julia 1.8.1",
   "language": "julia",
   "name": "julia-1.8"
  },
  "language_info": {
   "file_extension": ".jl",
   "mimetype": "application/julia",
   "name": "julia",
   "version": "1.8.1"
  },
  "orig_nbformat": 4
 },
 "nbformat": 4,
 "nbformat_minor": 2
}
