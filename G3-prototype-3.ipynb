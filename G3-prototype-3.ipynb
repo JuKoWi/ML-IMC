{
 "cells": [
  {
   "cell_type": "code",
   "execution_count": 1,
   "metadata": {},
   "outputs": [
    {
     "name": "stdout",
     "output_type": "stream",
     "text": [
      "Running ML-IMC in the training mode.\n",
      "Building a model...\n",
      "Chain(Dense(16 => 20, relu; bias=false), Dense(20 => 20, relu; bias=false), Dense(20 => 1; bias=false))\n",
      "   Number of layers: 4 \n",
      "   Number of neurons in each layer: [16, 20, 20, 1]\n"
     ]
    },
    {
     "data": {
      "text/plain": [
       "(Chain(Dense(16 => 20, relu; bias=false), Dense(20 => 20, relu; bias=false), Dense(20 => 1; bias=false)), AMSGrad(0.001, (0.9, 0.999), 1.0e-8, IdDict{Any, Any}()), Any[[0.0, 0.0, 0.0, 0.0, 0.0, 0.0, 0.0, 0.0, 0.0, 0.0  …  1.004, 1.005, 1.006, 1.005, 1.006, 1.006, 1.007, 1.007, 1.007, 1.007], [0.0, 0.0, 0.0, 0.0, 0.0, 0.0, 0.0, 0.0, 0.0, 0.0  …  1.003, 1.003, 1.003, 1.004, 1.004, 1.004, 1.005, 1.005, 1.004, 1.005], [0.0, 0.0, 0.0, 0.0, 0.0, 0.0, 0.0, 0.0, 0.0, 0.0  …  1.004, 1.004, 1.004, 1.005, 1.005, 1.005, 1.005, 1.005, 1.005, 1.005], [0.0, 0.0, 0.0, 0.0, 0.0, 0.0, 0.0, 0.0, 0.0, 0.0  …  1.004, 1.004, 1.005, 1.004, 1.006, 1.003, 1.004, 1.004, 1.005, 1.004]])"
      ]
     },
     "execution_count": 1,
     "metadata": {},
     "output_type": "execute_result"
    }
   ],
   "source": [
    "using LinearAlgebra\n",
    "using Dates\n",
    "\n",
    "using Plots\n",
    "using BenchmarkTools\n",
    "\n",
    "BLAS.set_num_threads(1)\n",
    "\n",
    "include(\"src/io.jl\")\n",
    "include(\"src/distances.jl\")\n",
    "include(\"src/optimizer.jl\")\n",
    "include(\"src/network.jl\")\n",
    "include(\"src/symmfunctions.jl\")\n",
    "include(\"src/base.jl\")\n",
    "include(\"src/pretraining.jl\")\n",
    "\n",
    "# Initialize the parameters\n",
    "globalParms, MCParms, NNParms, preTrainParms, systemParmsList = parametersInit()\n",
    "\n",
    "# Initialize the input data\n",
    "inputs = inputInit(globalParms, NNParms, preTrainParms, systemParmsList)\n",
    "if globalParms.mode == \"training\"\n",
    "    model, opt, refRDFs = inputs\n",
    "else\n",
    "    model = inputs\n",
    "end"
   ]
  },
  {
   "cell_type": "code",
   "execution_count": 2,
   "metadata": {},
   "outputs": [
    {
     "name": "stdout",
     "output_type": "stream",
     "text": [
      "Using the following symmetry functions as the neural input for each atom:\n",
      "    G2 symmetry functions:\n",
      "    eta, Å^-2; rcutoff, Å; rshift, Å\n",
      "       G2(0.003, 6.0, 0.0)\n",
      "       G2(0.03, 6.0, 0.0)\n",
      "       G2(0.1, 6.0, 0.0)\n",
      "       G2(0.2, 6.0, 0.0)\n",
      "       G2(0.5, 6.0, 3.35)\n",
      "       G2(1.0, 6.0, 3.35)\n",
      "       G2(2.0, 6.0, 3.35)\n",
      "       G2(5.0, 6.0, 3.35)\n",
      "       G2(0.5, 6.0, 4.5)\n",
      "       G2(1.0, 6.0, 4.5)\n",
      "       G2(2.0, 6.0, 4.5)\n",
      "       G2(5.0, 6.0, 4.5)\n",
      "    G3 symmetry functions:\n",
      "    eta, Å^-2; lambda; zeta; rcutoff, Å; rshift, Å\n",
      "       G3(0.01, 1.0, 1.0, 6.0, 0.0)\n",
      "       G3(0.01, -1.0, 1.0, 6.0, 0.0)\n",
      "    G9 symmetry functions:\n",
      "    eta, Å^-2; lambda; zeta; rcutoff, Å; rshift, Å\n",
      "       G9(0.01, 1.0, 1.0, 6.0, 0.0)\n",
      "       G9(0.01, -1.0, 1.0, 6.0, 0.0)\n",
      "Maximum cutoff distance: 6.0 Å\n"
     ]
    }
   ],
   "source": [
    "println(\"Using the following symmetry functions as the neural input for each atom:\")\n",
    "    if NNParms.G2Functions != []\n",
    "        println(\"    G2 symmetry functions:\")\n",
    "        println(\"    eta, Å^-2; rcutoff, Å; rshift, Å\")\n",
    "        for G2Function in NNParms.G2Functions\n",
    "            println(\"       \", G2Function)\n",
    "        end\n",
    "    end\n",
    "    if NNParms.G3Functions != []\n",
    "        println(\"    G3 symmetry functions:\")\n",
    "        println(\"    eta, Å^-2; lambda; zeta; rcutoff, Å; rshift, Å\")\n",
    "        for G3Function in NNParms.G3Functions\n",
    "            println(\"       \", G3Function)\n",
    "        end\n",
    "    end\n",
    "    if NNParms.G9Functions != []\n",
    "        println(\"    G9 symmetry functions:\")\n",
    "        println(\"    eta, Å^-2; lambda; zeta; rcutoff, Å; rshift, Å\")\n",
    "        for G9Function in NNParms.G9Functions\n",
    "            println(\"       \", G9Function)\n",
    "        end\n",
    "    end\n",
    "    println(\"Maximum cutoff distance: $(NNParms.maxDistanceCutoff) Å\")"
   ]
  },
  {
   "cell_type": "code",
   "execution_count": 3,
   "metadata": {},
   "outputs": [],
   "source": [
    "systemParms = systemParmsList[1]\n",
    "traj = readXTC(systemParms)\n",
    "frame = read_step(traj, 1)\n",
    "coordinates1 = deepcopy(positions(frame))\n",
    "box = lengths(UnitCell(frame));"
   ]
  },
  {
   "cell_type": "code",
   "execution_count": 4,
   "metadata": {},
   "outputs": [],
   "source": [
    "distanceMatrix = buildDistanceMatrix(frame);"
   ]
  },
  {
   "cell_type": "code",
   "execution_count": 5,
   "metadata": {},
   "outputs": [],
   "source": [
    "G2Matrix = buildG2Matrix(distanceMatrix, NNParms.G2Functions);"
   ]
  },
  {
   "cell_type": "code",
   "execution_count": 6,
   "metadata": {},
   "outputs": [],
   "source": [
    "#@btime buildG2Matrix($distanceMatrix, $NNParms.G2Functions);"
   ]
  },
  {
   "cell_type": "code",
   "execution_count": 7,
   "metadata": {},
   "outputs": [
    {
     "data": {
      "text/plain": [
       "512×2 Matrix{Float64}:\n",
       " 0.0420455  0.0135732\n",
       " 0.0565059  0.0433692\n",
       " 0.15188    0.0444613\n",
       " 0.161745   0.0489703\n",
       " 0.075882   0.0259094\n",
       " 0.0284074  0.0105423\n",
       " 0.0778856  0.0189655\n",
       " 0.0671209  0.0237215\n",
       " 0.0750116  0.035236\n",
       " 0.156217   0.0461813\n",
       " 0.239378   0.0845712\n",
       " 0.121736   0.046634\n",
       " 0.143385   0.0631665\n",
       " ⋮          \n",
       " 0.0770564  0.0289734\n",
       " 0.110758   0.0398616\n",
       " 0.0421053  0.0167195\n",
       " 0.0471012  0.011058\n",
       " 0.101296   0.036071\n",
       " 0.145133   0.0528852\n",
       " 0.0635515  0.0178394\n",
       " 0.1905     0.0653554\n",
       " 0.0974846  0.0318726\n",
       " 0.187462   0.05528\n",
       " 0.121085   0.032481\n",
       " 0.108074   0.03024"
      ]
     },
     "execution_count": 7,
     "metadata": {},
     "output_type": "execute_result"
    }
   ],
   "source": [
    "G3Matrix = buildG3Matrix(distanceMatrix, coordinates1, box, NNParms.G3Functions)"
   ]
  },
  {
   "cell_type": "code",
   "execution_count": 8,
   "metadata": {},
   "outputs": [],
   "source": [
    "#@btime buildG3Matrix($distanceMatrix, $coordinates1, $box, $NNParms.G3Functions);"
   ]
  },
  {
   "cell_type": "code",
   "execution_count": 9,
   "metadata": {},
   "outputs": [
    {
     "data": {
      "text/plain": [
       "3-element Vector{Float64}:\n",
       " 18.08000087738037\n",
       "  4.760000109672546\n",
       " 27.280001640319824"
      ]
     },
     "execution_count": 9,
     "metadata": {},
     "output_type": "execute_result"
    }
   ],
   "source": [
    "pointIndex = 1;\n",
    "distanceVector1 = distanceMatrix[:, pointIndex]\n",
    "positions(frame)[:, pointIndex]"
   ]
  },
  {
   "cell_type": "code",
   "execution_count": 10,
   "metadata": {},
   "outputs": [
    {
     "data": {
      "text/plain": [
       "3-element view(::Chemfiles.ChemfilesArray, :, 1) with eltype Float64:\n",
       " 19.08000087738037\n",
       "  7.760000109672546\n",
       " 28.280001640319824"
      ]
     },
     "execution_count": 10,
     "metadata": {},
     "output_type": "execute_result"
    }
   ],
   "source": [
    "positions(frame)[:, pointIndex] .+= [1.0, 3.0, 1.0]"
   ]
  },
  {
   "cell_type": "code",
   "execution_count": 11,
   "metadata": {},
   "outputs": [],
   "source": [
    "point = positions(frame)[:, pointIndex];\n",
    "distanceVector2 = computeDistanceVector(point, positions(frame), box);\n",
    "distanceMatrix[pointIndex, :] = distanceVector2;\n",
    "distanceMatrix[:, pointIndex] = distanceVector2;"
   ]
  },
  {
   "cell_type": "code",
   "execution_count": 12,
   "metadata": {},
   "outputs": [],
   "source": [
    "coordinates2 = positions(frame);"
   ]
  },
  {
   "cell_type": "code",
   "execution_count": 13,
   "metadata": {},
   "outputs": [
    {
     "data": {
      "text/plain": [
       "false"
      ]
     },
     "execution_count": 13,
     "metadata": {},
     "output_type": "execute_result"
    }
   ],
   "source": [
    "coordinates2 == coordinates1"
   ]
  },
  {
   "cell_type": "code",
   "execution_count": 14,
   "metadata": {},
   "outputs": [
    {
     "data": {
      "text/plain": [
       "true"
      ]
     },
     "execution_count": 14,
     "metadata": {},
     "output_type": "execute_result"
    }
   ],
   "source": [
    "coordinates2[:, 2:end] == coordinates1[:, 2:end]"
   ]
  },
  {
   "cell_type": "code",
   "execution_count": 15,
   "metadata": {},
   "outputs": [
    {
     "data": {
      "text/plain": [
       "true"
      ]
     },
     "execution_count": 15,
     "metadata": {},
     "output_type": "execute_result"
    }
   ],
   "source": [
    "coordinates2[:, pointIndex] .- [1.0, 3.0, 1.0] == coordinates1[:, pointIndex]"
   ]
  },
  {
   "cell_type": "code",
   "execution_count": 16,
   "metadata": {},
   "outputs": [
    {
     "data": {
      "text/plain": [
       "true"
      ]
     },
     "execution_count": 16,
     "metadata": {},
     "output_type": "execute_result"
    }
   ],
   "source": [
    "distanceVector1 != distanceVector2"
   ]
  },
  {
   "cell_type": "code",
   "execution_count": 17,
   "metadata": {},
   "outputs": [],
   "source": [
    "G3MatrixUpdated = buildG3Matrix(distanceMatrix, coordinates2, box, NNParms.G3Functions);"
   ]
  },
  {
   "cell_type": "code",
   "execution_count": 18,
   "metadata": {},
   "outputs": [
    {
     "data": {
      "text/plain": [
       "1.2972781202556045"
      ]
     },
     "execution_count": 18,
     "metadata": {},
     "output_type": "execute_result"
    }
   ],
   "source": [
    "sum(G3MatrixUpdated .- G3Matrix)"
   ]
  },
  {
   "cell_type": "code",
   "execution_count": 19,
   "metadata": {},
   "outputs": [
    {
     "data": {
      "text/plain": [
       "0.4324260400852014"
      ]
     },
     "execution_count": 19,
     "metadata": {},
     "output_type": "execute_result"
    }
   ],
   "source": [
    "sum(G3MatrixUpdated[pointIndex, :] .- G3Matrix[pointIndex, :])"
   ]
  },
  {
   "cell_type": "code",
   "execution_count": 20,
   "metadata": {},
   "outputs": [],
   "source": [
    "G3MatrixOriginal = copy(G3Matrix);"
   ]
  },
  {
   "cell_type": "code",
   "execution_count": 22,
   "metadata": {},
   "outputs": [
    {
     "data": {
      "text/plain": [
       "true"
      ]
     },
     "execution_count": 22,
     "metadata": {},
     "output_type": "execute_result"
    }
   ],
   "source": [
    "G3Matrix == G3MatrixOriginal"
   ]
  },
  {
   "cell_type": "code",
   "execution_count": 97,
   "metadata": {},
   "outputs": [],
   "source": [
    "include(\"src/symmfunctions.jl\");"
   ]
  },
  {
   "cell_type": "code",
   "execution_count": 95,
   "metadata": {},
   "outputs": [],
   "source": [
    "G3Matrix = deepcopy(G3MatrixOriginal);"
   ]
  },
  {
   "cell_type": "code",
   "execution_count": 23,
   "metadata": {},
   "outputs": [],
   "source": [
    "updateG3Matrix!(G3Matrix, coordinates1, coordinates2, box, distanceVector1, distanceVector2, systemParms, NNParms.G3Functions, pointIndex);"
   ]
  },
  {
   "cell_type": "code",
   "execution_count": 24,
   "metadata": {},
   "outputs": [
    {
     "data": {
      "text/plain": [
       "1.2972781202556045"
      ]
     },
     "execution_count": 24,
     "metadata": {},
     "output_type": "execute_result"
    }
   ],
   "source": [
    "sum(G3Matrix .- G3MatrixOriginal)"
   ]
  },
  {
   "cell_type": "code",
   "execution_count": 25,
   "metadata": {},
   "outputs": [
    {
     "data": {
      "text/plain": [
       "-1.6219664500383146e-16"
      ]
     },
     "execution_count": 25,
     "metadata": {},
     "output_type": "execute_result"
    }
   ],
   "source": [
    "sum(G3Matrix .- G3MatrixUpdated)"
   ]
  },
  {
   "cell_type": "code",
   "execution_count": 27,
   "metadata": {},
   "outputs": [],
   "source": [
    "updateG3Matrix!(G3Matrix, coordinates2, coordinates1, box, distanceVector2, distanceVector1, systemParms, NNParms.G3Functions, pointIndex);"
   ]
  },
  {
   "cell_type": "code",
   "execution_count": 28,
   "metadata": {},
   "outputs": [
    {
     "data": {
      "text/plain": [
       "-3.469446951953614e-17"
      ]
     },
     "execution_count": 28,
     "metadata": {},
     "output_type": "execute_result"
    }
   ],
   "source": [
    "sum(G3Matrix .- G3MatrixOriginal)"
   ]
  },
  {
   "cell_type": "code",
   "execution_count": 29,
   "metadata": {},
   "outputs": [
    {
     "data": {
      "text/plain": [
       "-1.2972781202556045"
      ]
     },
     "execution_count": 29,
     "metadata": {},
     "output_type": "execute_result"
    }
   ],
   "source": [
    "sum(G3Matrix .- G3MatrixUpdated)"
   ]
  },
  {
   "cell_type": "code",
   "execution_count": 30,
   "metadata": {},
   "outputs": [
    {
     "name": "stdout",
     "output_type": "stream",
     "text": [
      "  23.213 ms (473433 allocations: 38.15 MiB)\n"
     ]
    }
   ],
   "source": [
    "@btime buildG3Matrix($distanceMatrix, $coordinates2, $box, $NNParms.G3Functions);"
   ]
  },
  {
   "cell_type": "code",
   "execution_count": 32,
   "metadata": {},
   "outputs": [
    {
     "name": "stdout",
     "output_type": "stream",
     "text": [
      "  1.944 ms (69692 allocations: 5.32 MiB)\n"
     ]
    }
   ],
   "source": [
    "@btime updateG3Matrix!($G3Matrix, $coordinates2, $coordinates1, $box, $distanceVector2, $distanceVector1, $systemParms, $NNParms.G3Functions, $pointIndex);"
   ]
  },
  {
   "attachments": {},
   "cell_type": "markdown",
   "metadata": {},
   "source": [
    "It is a success! The updateG3Matrix! function works correctly and currently is roughly 20x faster than building the matrix from scratch. I know I can further optimize it a little bit. 2ms is too much of course.\n",
    "\n",
    "Possible solutions: \n",
    "- optimize the update function by removing unnecessary computation/memory access\n",
    "- reduce cutoff for the angular function\n",
    "- use G9 function that is slightly faster than G3"
   ]
  },
  {
   "cell_type": "markdown",
   "metadata": {},
   "source": []
  }
 ],
 "metadata": {
  "kernelspec": {
   "display_name": "Julia 1.8.1",
   "language": "julia",
   "name": "julia-1.8"
  },
  "language_info": {
   "file_extension": ".jl",
   "mimetype": "application/julia",
   "name": "julia",
   "version": "1.8.1"
  },
  "orig_nbformat": 4
 },
 "nbformat": 4,
 "nbformat_minor": 2
}
