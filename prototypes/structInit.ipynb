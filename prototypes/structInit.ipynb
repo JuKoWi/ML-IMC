{
 "cells": [
  {
   "cell_type": "code",
   "execution_count": 1,
   "id": "cf21499f",
   "metadata": {},
   "outputs": [],
   "source": [
    "using StaticArrays"
   ]
  },
  {
   "cell_type": "code",
   "execution_count": 2,
   "id": "57730694",
   "metadata": {},
   "outputs": [],
   "source": [
    "struct inputParms\n",
    "    box::SVector{3, Float64}\n",
    "    T::Float64\n",
    "    β::Float64\n",
    "    steps::Int\n",
    "    optimizer::String\n",
    "end"
   ]
  },
  {
   "cell_type": "code",
   "execution_count": 3,
   "id": "add6a1b4",
   "metadata": {},
   "outputs": [],
   "source": [
    "NA = 6.02214076E23 # [mol-1]\n",
    "kB = 1.38064852E-23 * NA / 1000 # [kJ/(mol*K)];"
   ]
  },
  {
   "cell_type": "code",
   "execution_count": 4,
   "id": "5be874d4",
   "metadata": {},
   "outputs": [
    {
     "data": {
      "text/plain": [
       "(:box, :T, :β, :steps, :optimizer)"
      ]
     },
     "execution_count": 4,
     "metadata": {},
     "output_type": "execute_result"
    }
   ],
   "source": [
    "fieldnames(inputParms)"
   ]
  },
  {
   "cell_type": "code",
   "execution_count": 5,
   "id": "1670e69e",
   "metadata": {},
   "outputs": [
    {
     "data": {
      "text/plain": [
       "(SVector{3, Float64}, Float64, Float64, Int64, String)"
      ]
     },
     "execution_count": 5,
     "metadata": {},
     "output_type": "execute_result"
    }
   ],
   "source": [
    "fieldtypes(inputParms)"
   ]
  },
  {
   "cell_type": "code",
   "execution_count": 6,
   "id": "7d944f81",
   "metadata": {},
   "outputs": [
    {
     "data": {
      "text/plain": [
       "5-element Vector{String}:\n",
       " \"box\"\n",
       " \"T\"\n",
       " \"β\"\n",
       " \"steps\"\n",
       " \"optimizer\""
      ]
     },
     "execution_count": 6,
     "metadata": {},
     "output_type": "execute_result"
    }
   ],
   "source": [
    "fields = [String(field) for field in fieldnames(inputParms)]"
   ]
  },
  {
   "cell_type": "code",
   "execution_count": 7,
   "id": "2ef0b081",
   "metadata": {},
   "outputs": [
    {
     "data": {
      "text/plain": [
       "6-element Vector{String}:\n",
       " \"# Data\"\n",
       " \"\"\n",
       " \"T = 95\"\n",
       " \"optimizer = Momentum\"\n",
       " \"box = 36.405 36.405 36.405\"\n",
       " \"steps = 100\""
      ]
     },
     "execution_count": 7,
     "metadata": {},
     "output_type": "execute_result"
    }
   ],
   "source": [
    "input = [\"# Data\", \"\", \"T = 95\", \"optimizer = Momentum\", \"box = 36.405 36.405 36.405\", \"steps = 100\"]"
   ]
  },
  {
   "cell_type": "code",
   "execution_count": 8,
   "id": "208f321d",
   "metadata": {},
   "outputs": [
    {
     "data": {
      "text/plain": [
       "6-element Vector{Vector{SubString{String}}}:\n",
       " [\"#\", \"Data\"]\n",
       " []\n",
       " [\"T\", \"=\", \"95\"]\n",
       " [\"optimizer\", \"=\", \"Momentum\"]\n",
       " [\"box\", \"=\", \"36.405\", \"36.405\", \"36.405\"]\n",
       " [\"steps\", \"=\", \"100\"]"
      ]
     },
     "execution_count": 8,
     "metadata": {},
     "output_type": "execute_result"
    }
   ],
   "source": [
    "inputdata = [split(line) for line in input]"
   ]
  },
  {
   "cell_type": "code",
   "execution_count": 9,
   "id": "f41cac26",
   "metadata": {},
   "outputs": [
    {
     "name": "stdout",
     "output_type": "stream",
     "text": [
      "box = [36.405, 36.405, 36.405]\n",
      "T = 95.0\n",
      "β = 1.266025230073036\n",
      "steps = 100\n",
      "optimizer = Momentum\n"
     ]
    }
   ],
   "source": [
    "vars = []\n",
    "for (field, fieldtype) in zip(fields, fieldtypes(inputParms))\n",
    "    for inputvector in inputdata\n",
    "        if length(inputvector) != 0 && field == inputvector[1]\n",
    "            if field == \"box\"\n",
    "                box = zeros(3)\n",
    "                box[1] = parse(Float64, inputvector[3])\n",
    "                box[2] = parse(Float64, inputvector[4])\n",
    "                box[3] = parse(Float64, inputvector[5])\n",
    "                append!(vars, [box])\n",
    "                println(\"$(field) = $(box)\")            \n",
    "            elseif field == \"T\"\n",
    "                T = parse(Float64, inputvector[3])\n",
    "                β = 1/(kB * T)\n",
    "                append!(vars, T)  \n",
    "                append!(vars, β)\n",
    "                println(\"T = $(T)\")\n",
    "                println(\"β = $(β)\")\n",
    "            else\n",
    "                println(\"$(field) = $(inputvector[3])\")\n",
    "                if fieldtype != String\n",
    "                    append!(vars, parse(fieldtype, inputvector[3]))\n",
    "                else\n",
    "                    append!(vars, [inputvector[3]])\n",
    "                end\n",
    "            end\n",
    "        end\n",
    "    end\n",
    "end"
   ]
  },
  {
   "cell_type": "code",
   "execution_count": 10,
   "id": "d2123878",
   "metadata": {},
   "outputs": [
    {
     "data": {
      "text/plain": [
       "inputParms([36.405, 36.405, 36.405], 95.0, 1.266025230073036, 100, \"Momentum\")"
      ]
     },
     "execution_count": 10,
     "metadata": {},
     "output_type": "execute_result"
    }
   ],
   "source": [
    "parameters = inputParms(vars...)"
   ]
  },
  {
   "cell_type": "code",
   "execution_count": 11,
   "id": "75b4554b",
   "metadata": {},
   "outputs": [
    {
     "data": {
      "text/plain": [
       "1.266025230073036"
      ]
     },
     "execution_count": 11,
     "metadata": {},
     "output_type": "execute_result"
    }
   ],
   "source": [
    "parameters.β"
   ]
  },
  {
   "cell_type": "code",
   "execution_count": 12,
   "id": "0f564771",
   "metadata": {},
   "outputs": [
    {
     "data": {
      "text/plain": [
       "95.0"
      ]
     },
     "execution_count": 12,
     "metadata": {},
     "output_type": "execute_result"
    }
   ],
   "source": [
    "parameters.T"
   ]
  },
  {
   "cell_type": "code",
   "execution_count": 13,
   "id": "3ecfa40d",
   "metadata": {},
   "outputs": [
    {
     "data": {
      "text/plain": [
       "3-element SVector{3, Float64} with indices SOneTo(3):\n",
       " 36.405\n",
       " 36.405\n",
       " 36.405"
      ]
     },
     "execution_count": 13,
     "metadata": {},
     "output_type": "execute_result"
    }
   ],
   "source": [
    "parameters.box"
   ]
  },
  {
   "cell_type": "code",
   "execution_count": 14,
   "id": "48a46a16",
   "metadata": {},
   "outputs": [
    {
     "data": {
      "text/plain": [
       "\"Momentum\""
      ]
     },
     "execution_count": 14,
     "metadata": {},
     "output_type": "execute_result"
    }
   ],
   "source": [
    "parameters.optimizer"
   ]
  },
  {
   "cell_type": "code",
   "execution_count": 15,
   "id": "42d86336",
   "metadata": {},
   "outputs": [
    {
     "data": {
      "text/plain": [
       "100"
      ]
     },
     "execution_count": 15,
     "metadata": {},
     "output_type": "execute_result"
    }
   ],
   "source": [
    "parameters.steps"
   ]
  },
  {
   "cell_type": "code",
   "execution_count": 31,
   "id": "0d315abc",
   "metadata": {},
   "outputs": [],
   "source": [
    "a = [1, 2, 3, 4, 5]\n",
    "b = [2, 2, 2, 2, 2];"
   ]
  },
  {
   "cell_type": "code",
   "execution_count": 32,
   "id": "d7adb1a4",
   "metadata": {},
   "outputs": [
    {
     "data": {
      "text/plain": [
       "5-element Vector{Int64}:\n",
       "  2\n",
       "  4\n",
       "  6\n",
       "  8\n",
       " 10"
      ]
     },
     "execution_count": 32,
     "metadata": {},
     "output_type": "execute_result"
    }
   ],
   "source": [
    "a .*= b"
   ]
  },
  {
   "cell_type": "code",
   "execution_count": null,
   "id": "b0e00d05",
   "metadata": {},
   "outputs": [],
   "source": []
  }
 ],
 "metadata": {
  "kernelspec": {
   "display_name": "Julia 1.7.2",
   "language": "julia",
   "name": "julia-1.7"
  },
  "language_info": {
   "file_extension": ".jl",
   "mimetype": "application/julia",
   "name": "julia",
   "version": "1.7.2"
  }
 },
 "nbformat": 4,
 "nbformat_minor": 5
}
