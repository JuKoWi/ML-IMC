{
 "cells": [
  {
   "cell_type": "code",
   "execution_count": 280,
   "id": "582c19be",
   "metadata": {},
   "outputs": [],
   "source": [
    "using Flux"
   ]
  },
  {
   "cell_type": "code",
   "execution_count": 281,
   "id": "8e263242",
   "metadata": {},
   "outputs": [],
   "source": [
    "\"\"\"\n",
    "y = x*w\n",
    "\"\"\"\n",
    "function linearActivation(x, w)\n",
    "    return sum(x .* w)\n",
    "end;"
   ]
  },
  {
   "cell_type": "code",
   "execution_count": 282,
   "id": "5c73f6d0",
   "metadata": {},
   "outputs": [],
   "source": [
    "x = rand(10);"
   ]
  },
  {
   "cell_type": "code",
   "execution_count": 283,
   "id": "594ab666",
   "metadata": {},
   "outputs": [],
   "source": [
    "w = rand(10);"
   ]
  },
  {
   "cell_type": "code",
   "execution_count": 284,
   "id": "4700d8ed",
   "metadata": {},
   "outputs": [
    {
     "data": {
      "text/plain": [
       "2.3887650739454425"
      ]
     },
     "execution_count": 284,
     "metadata": {},
     "output_type": "execute_result"
    }
   ],
   "source": [
    "y = linearActivation(x, w)"
   ]
  },
  {
   "cell_type": "code",
   "execution_count": 285,
   "id": "b07f368b",
   "metadata": {},
   "outputs": [
    {
     "data": {
      "text/plain": [
       "([0.12015509719068695, 0.021709486940606815, 0.8571674042378091, 0.31787498341878184, 0.06825305017802497, 0.33642313010076086, 0.2780656543082781, 0.8434471331906673, 0.9748458416522874, 0.4238941308519185], [0.5529009286866227, 0.5704720737045613, 0.8837895422499722, 0.9116807531729936, 0.6792797000078808, 0.9437912683369667, 0.1402304017970426, 0.3041863351001902, 0.4821845765550753, 0.3139943374663644])"
      ]
     },
     "execution_count": 285,
     "metadata": {},
     "output_type": "execute_result"
    }
   ],
   "source": [
    "gs = gradient(linearActivation, x, w)"
   ]
  },
  {
   "cell_type": "code",
   "execution_count": 286,
   "id": "d6ebba17",
   "metadata": {},
   "outputs": [],
   "source": [
    "\"\"\"\n",
    "y = x*w\n",
    "dy/dw = x\n",
    "\"\"\"\n",
    "function linearActivationDerivative(x, w)\n",
    "    return x\n",
    "end;"
   ]
  },
  {
   "cell_type": "code",
   "execution_count": 287,
   "id": "1ec5dbe6",
   "metadata": {},
   "outputs": [
    {
     "data": {
      "text/plain": [
       "true"
      ]
     },
     "execution_count": 287,
     "metadata": {},
     "output_type": "execute_result"
    }
   ],
   "source": [
    "linearActivationDerivative(x, w) == gs[2]"
   ]
  },
  {
   "cell_type": "code",
   "execution_count": 288,
   "id": "787df427",
   "metadata": {},
   "outputs": [],
   "source": [
    "\"\"\"\n",
    "y = tanh(x*w)\n",
    "\"\"\"\n",
    "function tanhActivation(x, w)\n",
    "    return sum(@. tanh(x * w))\n",
    "end;"
   ]
  },
  {
   "cell_type": "code",
   "execution_count": 289,
   "id": "24a99c0c",
   "metadata": {},
   "outputs": [
    {
     "data": {
      "text/plain": [
       "2.2145103738726015"
      ]
     },
     "execution_count": 289,
     "metadata": {},
     "output_type": "execute_result"
    }
   ],
   "source": [
    "y = tanhActivation(x, w)"
   ]
  },
  {
   "cell_type": "code",
   "execution_count": 290,
   "id": "3b1a2fe3",
   "metadata": {},
   "outputs": [
    {
     "data": {
      "text/plain": [
       "([0.11962635407819829, 0.021706157486354738, 0.5064721041451233, 0.29260504383644353, 0.06810654889512859, 0.30466255447801904, 0.2776432908477512, 0.7902752627410458, 0.787618867316204, 0.4164723569782784], [0.5504678853554047, 0.570384583812392, 0.5222022522926155, 0.8392053500969647, 0.6778216648396788, 0.8546911106244995, 0.14001740102957486, 0.28501008117031146, 0.3895771554812794, 0.3084967502136339])"
      ]
     },
     "execution_count": 290,
     "metadata": {},
     "output_type": "execute_result"
    }
   ],
   "source": [
    "gs = gradient(tanhActivation, x, w)"
   ]
  },
  {
   "cell_type": "code",
   "execution_count": 291,
   "id": "498f956c",
   "metadata": {},
   "outputs": [],
   "source": [
    "\"\"\"\n",
    "y = tanh(x*w)\n",
    "dy/dw = dy/dtanh(x*w) * d(x*w)/dw = (sech(x*w))^2 * x\n",
    "\"\"\"\n",
    "function tanhActivationDerivative(x, w)\n",
    "    return @. x * (sech(x * w))^2\n",
    "end;"
   ]
  },
  {
   "cell_type": "code",
   "execution_count": 292,
   "id": "cecb3166",
   "metadata": {},
   "outputs": [
    {
     "data": {
      "text/plain": [
       "false"
      ]
     },
     "execution_count": 292,
     "metadata": {},
     "output_type": "execute_result"
    }
   ],
   "source": [
    "tanhActivationDerivative(x, w) == gs[2]"
   ]
  },
  {
   "cell_type": "code",
   "execution_count": 293,
   "id": "bfa74d05",
   "metadata": {},
   "outputs": [
    {
     "data": {
      "text/plain": [
       "true"
      ]
     },
     "execution_count": 293,
     "metadata": {},
     "output_type": "execute_result"
    }
   ],
   "source": [
    "tanhActivationDerivative(x, w) ≈ gs[2]"
   ]
  },
  {
   "cell_type": "code",
   "execution_count": 294,
   "id": "0aa6eb39",
   "metadata": {},
   "outputs": [
    {
     "data": {
      "text/plain": [
       "10-element Vector{Float64}:\n",
       " 0.5504678853554048\n",
       " 0.570384583812392\n",
       " 0.5222022522926155\n",
       " 0.8392053500969648\n",
       " 0.6778216648396785\n",
       " 0.8546911106244997\n",
       " 0.14001740102957488\n",
       " 0.2850100811703115\n",
       " 0.3895771554812794\n",
       " 0.3084967502136339"
      ]
     },
     "execution_count": 294,
     "metadata": {},
     "output_type": "execute_result"
    }
   ],
   "source": [
    "tanhActivationDerivative(x, w)"
   ]
  },
  {
   "cell_type": "code",
   "execution_count": 295,
   "id": "eede3b70",
   "metadata": {},
   "outputs": [
    {
     "data": {
      "text/plain": [
       "10-element Vector{Float64}:\n",
       " 0.5504678853554047\n",
       " 0.570384583812392\n",
       " 0.5222022522926155\n",
       " 0.8392053500969647\n",
       " 0.6778216648396788\n",
       " 0.8546911106244995\n",
       " 0.14001740102957486\n",
       " 0.28501008117031146\n",
       " 0.3895771554812794\n",
       " 0.3084967502136339"
      ]
     },
     "execution_count": 295,
     "metadata": {},
     "output_type": "execute_result"
    }
   ],
   "source": [
    "gs[2]"
   ]
  },
  {
   "cell_type": "code",
   "execution_count": 349,
   "id": "a46e1870",
   "metadata": {},
   "outputs": [
    {
     "data": {
      "text/plain": [
       "Chain(\n",
       "  Dense(10 => 1; bias=false),           \u001b[90m# 10 parameters\u001b[39m\n",
       ") "
      ]
     },
     "execution_count": 349,
     "metadata": {},
     "output_type": "execute_result"
    }
   ],
   "source": [
    "model = Chain(Dense(10, 1, bias=false))"
   ]
  },
  {
   "cell_type": "code",
   "execution_count": 350,
   "id": "39028970",
   "metadata": {},
   "outputs": [
    {
     "data": {
      "text/plain": [
       "1×10 Matrix{Float32}:\n",
       " 0.277495  0.708802  -0.330047  0.416559  …  -0.541632  0.186023  -0.452852"
      ]
     },
     "execution_count": 350,
     "metadata": {},
     "output_type": "execute_result"
    }
   ],
   "source": [
    "model.layers[1].weight"
   ]
  },
  {
   "cell_type": "code",
   "execution_count": 351,
   "id": "d99f83a9",
   "metadata": {},
   "outputs": [],
   "source": [
    "\"\"\"\n",
    "y = model(x)\n",
    "\"\"\"\n",
    "function FluxModelOutput(x, model)\n",
    "    return model(x)[1]\n",
    "end;"
   ]
  },
  {
   "cell_type": "code",
   "execution_count": 352,
   "id": "8e2706bd",
   "metadata": {},
   "outputs": [],
   "source": [
    "\"\"\"\n",
    "y = x*model\n",
    "\"\"\"\n",
    "function linearModelOutput(x, model)\n",
    "    return sum(x .* reshape(model.layers[1].weight, size(x)))\n",
    "end;"
   ]
  },
  {
   "cell_type": "code",
   "execution_count": 353,
   "id": "96b61036",
   "metadata": {},
   "outputs": [
    {
     "data": {
      "text/plain": [
       "true"
      ]
     },
     "execution_count": 353,
     "metadata": {},
     "output_type": "execute_result"
    }
   ],
   "source": [
    "FluxModelOutput(x, model) == linearModelOutput(x, model)"
   ]
  },
  {
   "cell_type": "code",
   "execution_count": 354,
   "id": "bb663522",
   "metadata": {},
   "outputs": [
    {
     "data": {
      "text/plain": [
       "true"
      ]
     },
     "execution_count": 354,
     "metadata": {},
     "output_type": "execute_result"
    }
   ],
   "source": [
    "gradient(FluxModelOutput, x, model) == gradient(linearModelOutput, x, model)"
   ]
  },
  {
   "cell_type": "code",
   "execution_count": 355,
   "id": "f0702e5d",
   "metadata": {},
   "outputs": [
    {
     "data": {
      "text/plain": [
       "true"
      ]
     },
     "execution_count": 355,
     "metadata": {},
     "output_type": "execute_result"
    }
   ],
   "source": [
    "gradient(FluxModelOutput, x, model)[2][1][1][1]' ≈ linearActivationDerivative(x, w)"
   ]
  },
  {
   "cell_type": "code",
   "execution_count": 356,
   "id": "ab658fae",
   "metadata": {},
   "outputs": [
    {
     "data": {
      "text/plain": [
       "Chain(\n",
       "  Dense(10 => 1, tanh; bias=false),     \u001b[90m# 10 parameters\u001b[39m\n",
       ") "
      ]
     },
     "execution_count": 356,
     "metadata": {},
     "output_type": "execute_result"
    }
   ],
   "source": [
    "model = Chain(Dense(10, 1, tanh, bias=false,))"
   ]
  },
  {
   "cell_type": "code",
   "execution_count": 357,
   "id": "1cd99a33",
   "metadata": {},
   "outputs": [],
   "source": [
    "\"\"\"\n",
    "y = tanh(x*model)\n",
    "\"\"\"\n",
    "function tanhModelOutput(x, model)\n",
    "    weights = reshape(model.layers[1].weight, size(x))\n",
    "    return tanh(sum((x .* weights)))\n",
    "end;"
   ]
  },
  {
   "cell_type": "code",
   "execution_count": 363,
   "id": "a5d63aa8",
   "metadata": {},
   "outputs": [
    {
     "data": {
      "text/plain": [
       "true"
      ]
     },
     "execution_count": 363,
     "metadata": {},
     "output_type": "execute_result"
    }
   ],
   "source": [
    "FluxModelOutput(x, model) ≈ tanhModelOutput(x, model)"
   ]
  },
  {
   "cell_type": "code",
   "execution_count": 364,
   "id": "04983acc",
   "metadata": {},
   "outputs": [],
   "source": [
    "\"\"\"\n",
    "y = tanh(x*w)\n",
    "dy/dw = dy/dtanh(x*w) * d(x*w)/dw = (sech(x*w))^2 * x\n",
    "\"\"\"\n",
    "function tanhModelOutputDerivative(x, model)\n",
    "    weights = reshape(model.layers[1].weight, size(x))\n",
    "    weighted_sum = sum((x .* weights))\n",
    "    return x .* sech(weighted_sum)^2\n",
    "end;"
   ]
  },
  {
   "cell_type": "code",
   "execution_count": 365,
   "id": "b1ee504a",
   "metadata": {},
   "outputs": [
    {
     "data": {
      "text/plain": [
       "true"
      ]
     },
     "execution_count": 365,
     "metadata": {},
     "output_type": "execute_result"
    }
   ],
   "source": [
    "gradient(FluxModelOutput, x, model)[2][1][1][1]' ≈ tanhModelOutputDerivative(x, model)"
   ]
  },
  {
   "cell_type": "code",
   "execution_count": null,
   "id": "4a7101a5",
   "metadata": {},
   "outputs": [],
   "source": []
  }
 ],
 "metadata": {
  "kernelspec": {
   "display_name": "Julia 1.8.1",
   "language": "julia",
   "name": "julia-1.8"
  },
  "language_info": {
   "file_extension": ".jl",
   "mimetype": "application/julia",
   "name": "julia",
   "version": "1.8.1"
  }
 },
 "nbformat": 4,
 "nbformat_minor": 5
}
