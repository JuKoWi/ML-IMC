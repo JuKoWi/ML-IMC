{
 "cells": [
  {
   "cell_type": "code",
   "execution_count": 1,
   "metadata": {},
   "outputs": [
    {
     "name": "stdout",
     "output_type": "stream",
     "text": [
      "Running ML-IMC in the training mode.\n"
     ]
    }
   ],
   "source": [
    "using LinearAlgebra\n",
    "using Dates\n",
    "\n",
    "using Plots\n",
    "using BenchmarkTools\n",
    "\n",
    "BLAS.set_num_threads(1)\n",
    "\n",
    "include(\"src/io.jl\")\n",
    "include(\"src/distances.jl\")\n",
    "include(\"src/optimizer.jl\")\n",
    "include(\"src/network.jl\")\n",
    "include(\"src/base.jl\")\n",
    "include(\"src/pretraining.jl\")\n",
    "\n",
    "# Initialize the parameters\n",
    "globalParms, MCParms, NNParms, preTrainParms, systemParmsList = parametersInit()\n",
    "\n",
    "# Initialize the input data\n",
    "inputs = inputInit(globalParms, NNParms, preTrainParms, systemParmsList)\n",
    "if globalParms.mode == \"training\"\n",
    "    model, opt, refRDFs = inputs\n",
    "else\n",
    "    model = inputs\n",
    "end;"
   ]
  },
  {
   "cell_type": "code",
   "execution_count": 3,
   "metadata": {},
   "outputs": [],
   "source": [
    "systemParms = systemParmsList[1];"
   ]
  },
  {
   "cell_type": "code",
   "execution_count": 3,
   "metadata": {},
   "outputs": [],
   "source": [
    "traj = readXTC(systemParms)\n",
    "frame = read_step(traj, 1)\n",
    "coordinates = positions(frame)\n",
    "box = lengths(UnitCell(frame));"
   ]
  },
  {
   "cell_type": "code",
   "execution_count": 4,
   "metadata": {},
   "outputs": [],
   "source": [
    "distanceMatrix = buildDistanceMatrix(frame);"
   ]
  },
  {
   "cell_type": "code",
   "execution_count": 5,
   "metadata": {},
   "outputs": [],
   "source": [
    "cutoff = 6.0 # Å\n",
    "rs = 0.0 # Å \n",
    "eta = 0.1 # Å^-2\n",
    "lambda = 1.0\n",
    "zeta = 1.0;"
   ]
  },
  {
   "cell_type": "code",
   "execution_count": 6,
   "metadata": {},
   "outputs": [],
   "source": [
    "distanceVector = distanceMatrix[:, 1];"
   ]
  },
  {
   "cell_type": "code",
   "execution_count": 7,
   "metadata": {},
   "outputs": [
    {
     "data": {
      "text/plain": [
       "computeCosAngle (generic function with 1 method)"
      ]
     },
     "execution_count": 7,
     "metadata": {},
     "output_type": "execute_result"
    }
   ],
   "source": [
    "function computeCosAngle(coordinates, i, j, k, distance_ij, distance_ik)::Float64\n",
    "    @assert i != j && i != k && k != j \n",
    "    vector_0i = coordinates[:, i]\n",
    "    vector_ij = coordinates[:, j] .- vector_0i\n",
    "    vector_ik = coordinates[:, k] .- vector_0i\n",
    "    cosAngle = dot(vector_ij, vector_ik) / (distance_ij * distance_ik)\n",
    "    return (cosAngle)\n",
    "end"
   ]
  },
  {
   "cell_type": "code",
   "execution_count": 8,
   "metadata": {},
   "outputs": [
    {
     "name": "stdout",
     "output_type": "stream",
     "text": [
      "  142.165 ns (9 allocations: 480 bytes)\n"
     ]
    },
    {
     "data": {
      "text/plain": [
       "0.7169325422695667"
      ]
     },
     "execution_count": 8,
     "metadata": {},
     "output_type": "execute_result"
    }
   ],
   "source": [
    "@btime computeCosAngle($coordinates, 1, 461, 483, distanceVector[461], distanceVector[483])"
   ]
  },
  {
   "cell_type": "code",
   "execution_count": 9,
   "metadata": {},
   "outputs": [
    {
     "data": {
      "text/plain": [
       "G9 (generic function with 3 methods)"
      ]
     },
     "execution_count": 9,
     "metadata": {},
     "output_type": "execute_result"
    }
   ],
   "source": [
    "function G9(cosAngle, distance_ij, distance_ik, cutoff, eta, zeta, lambda=1.0, rshift=0.0)::Float64\n",
    "    return (\n",
    "        (1.0 + lambda * cosAngle)^zeta * \n",
    "        exp(-eta * (\n",
    "                (distance_ij - rshift)^2 + \n",
    "                (distance_ik - rshift)^2)\n",
    "                ) * \n",
    "        distanceCutoff(distance_ij, cutoff) * \n",
    "        distanceCutoff(distance_ik, cutoff))\n",
    "end        "
   ]
  },
  {
   "cell_type": "code",
   "execution_count": 10,
   "metadata": {},
   "outputs": [
    {
     "data": {
      "text/plain": [
       "G3 (generic function with 3 methods)"
      ]
     },
     "execution_count": 10,
     "metadata": {},
     "output_type": "execute_result"
    }
   ],
   "source": [
    "function G3(cosAngle, distance_ij, distance_ik, distance_kj, cutoff, eta, zeta, lambda=1.0, rshift=0.0)::Float64\n",
    "    return (\n",
    "        (1.0 + lambda * cosAngle)^zeta * \n",
    "        exp(-eta * (\n",
    "                (distance_ij - rshift)^2 + \n",
    "                (distance_ik - rshift)^2 +\n",
    "                (distance_kj - rshift)^2)) * \n",
    "        distanceCutoff(distance_ij, cutoff) * \n",
    "        distanceCutoff(distance_ik, cutoff) *\n",
    "        distanceCutoff(distance_kj, cutoff))\n",
    "end        "
   ]
  },
  {
   "cell_type": "code",
   "execution_count": 11,
   "metadata": {},
   "outputs": [
    {
     "data": {
      "text/plain": [
       "G9total (generic function with 3 methods)"
      ]
     },
     "execution_count": 11,
     "metadata": {},
     "output_type": "execute_result"
    }
   ],
   "source": [
    "function G9total(i, coordinates, distanceMatrix, cutoff, eta, zeta, lambda=1.0, rshift=0.0)::Float64\n",
    "    sum = 0.0\n",
    "    distanceVector = distanceMatrix[:, i];\n",
    "    N = length(distanceVector)\n",
    "    @inbounds for k in eachindex(distanceVector)\n",
    "        distance_ik = distanceVector[k]\n",
    "        @inbounds for j in 1:k-1\n",
    "            distance_ij = distanceVector[j]\n",
    "            if 0 < distance_ij < cutoff && 0 < distance_ik < cutoff\n",
    "                cosAngle = computeCosAngle(coordinates, i, j, k, distance_ij, distance_ik)\n",
    "                sum += G9(cosAngle, distance_ij, distance_ik, cutoff, eta, zeta, lambda, rshift)\n",
    "            end\n",
    "        end\n",
    "    end\n",
    "    return (2.0^(1.0 - zeta) * sum)\n",
    "end"
   ]
  },
  {
   "cell_type": "code",
   "execution_count": 12,
   "metadata": {},
   "outputs": [
    {
     "name": "stdout",
     "output_type": "stream",
     "text": [
      "  11.758 μs (333 allocations: 29.95 KiB)\n"
     ]
    },
    {
     "data": {
      "text/plain": [
       "0.6491223630240601"
      ]
     },
     "execution_count": 12,
     "metadata": {},
     "output_type": "execute_result"
    }
   ],
   "source": [
    "@btime G9total(5, $coordinates, $distanceMatrix, cutoff, eta, 1.0, 1.0)"
   ]
  },
  {
   "cell_type": "code",
   "execution_count": 13,
   "metadata": {},
   "outputs": [
    {
     "data": {
      "text/plain": [
       "0.6491223630240601"
      ]
     },
     "execution_count": 13,
     "metadata": {},
     "output_type": "execute_result"
    }
   ],
   "source": [
    "G9total(5, coordinates, distanceMatrix, cutoff, eta, 1.0, 1.0)"
   ]
  },
  {
   "attachments": {},
   "cell_type": "markdown",
   "metadata": {},
   "source": [
    "I will implement the G3total function later (because an additional distance has to be computed)"
   ]
  },
  {
   "cell_type": "code",
   "execution_count": 15,
   "metadata": {},
   "outputs": [
    {
     "name": "stdout",
     "output_type": "stream",
     "text": [
      "  6.737 ms (2 allocations: 2.00 MiB)\n"
     ]
    }
   ],
   "source": [
    "@btime buildDistanceMatrix_old($frame);"
   ]
  },
  {
   "cell_type": "code",
   "execution_count": 16,
   "metadata": {},
   "outputs": [
    {
     "name": "stdout",
     "output_type": "stream",
     "text": [
      "  5.273 ms (3080 allocations: 12.27 MiB)\n"
     ]
    }
   ],
   "source": [
    "@btime buildDistanceMatrix($frame);"
   ]
  },
  {
   "cell_type": "code",
   "execution_count": 17,
   "metadata": {},
   "outputs": [
    {
     "data": {
      "text/plain": [
       "true"
      ]
     },
     "execution_count": 17,
     "metadata": {},
     "output_type": "execute_result"
    }
   ],
   "source": [
    "distanceMatrix1 = buildDistanceMatrix_old(frame)\n",
    "distanceMatrix2 = buildDistanceMatrix(frame)\n",
    "distanceMatrix1 == distanceMatrix2"
   ]
  },
  {
   "cell_type": "code",
   "execution_count": 18,
   "metadata": {},
   "outputs": [],
   "source": [
    "distanceVector = distanceMatrix[:, 1];"
   ]
  },
  {
   "cell_type": "code",
   "execution_count": 19,
   "metadata": {},
   "outputs": [
    {
     "name": "stdout",
     "output_type": "stream",
     "text": [
      "  435.050 ns (1 allocation: 4.12 KiB)\n"
     ]
    }
   ],
   "source": [
    "@btime $distanceMatrix[:, $1];"
   ]
  },
  {
   "cell_type": "code",
   "execution_count": 31,
   "metadata": {},
   "outputs": [
    {
     "data": {
      "text/plain": [
       "3-element Vector{Float64}:\n",
       " 15.830000638961792\n",
       " 32.47000217437744\n",
       " 31.760001182556152"
      ]
     },
     "execution_count": 31,
     "metadata": {},
     "output_type": "execute_result"
    }
   ],
   "source": [
    "coordinates = positions(frame);\n",
    "r1 = coordinates[:, 1]\n",
    "r2 = coordinates[:, 2]"
   ]
  },
  {
   "cell_type": "code",
   "execution_count": 35,
   "metadata": {},
   "outputs": [],
   "source": [
    "distanceVector1 = distanceMatrix[:, 2];"
   ]
  },
  {
   "cell_type": "code",
   "execution_count": 37,
   "metadata": {},
   "outputs": [],
   "source": [
    "distanceVector2 = computeDistanceVector(r2, coordinates, box);"
   ]
  },
  {
   "cell_type": "code",
   "execution_count": 33,
   "metadata": {},
   "outputs": [
    {
     "data": {
      "text/plain": [
       "true"
      ]
     },
     "execution_count": 33,
     "metadata": {},
     "output_type": "execute_result"
    }
   ],
   "source": [
    "distanceVector1 == distanceVector2"
   ]
  },
  {
   "cell_type": "code",
   "execution_count": 40,
   "metadata": {},
   "outputs": [
    {
     "name": "stdout",
     "output_type": "stream",
     "text": [
      "  10.216 μs (0 allocations: 0 bytes)\n"
     ]
    }
   ],
   "source": [
    "@btime updateDistance!($frame, $distanceVector, $1);"
   ]
  },
  {
   "cell_type": "code",
   "execution_count": 41,
   "metadata": {},
   "outputs": [
    {
     "name": "stdout",
     "output_type": "stream",
     "text": [
      "  6.400 μs (5 allocations: 20.45 KiB)\n"
     ]
    }
   ],
   "source": [
    "@btime computeDistanceVector($r1, $coordinates, $box);"
   ]
  }
 ],
 "metadata": {
  "kernelspec": {
   "display_name": "Julia 1.8.1",
   "language": "julia",
   "name": "julia-1.8"
  },
  "language_info": {
   "file_extension": ".jl",
   "mimetype": "application/julia",
   "name": "julia",
   "version": "1.8.1"
  },
  "orig_nbformat": 4
 },
 "nbformat": 4,
 "nbformat_minor": 2
}
