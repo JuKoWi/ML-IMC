{
 "cells": [
  {
   "cell_type": "code",
   "execution_count": 1,
   "metadata": {},
   "outputs": [
    {
     "name": "stdout",
     "output_type": "stream",
     "text": [
      "Running ML-IMC in the training mode.\n",
      "Building a model...\n",
      "Chain(Dense(18 => 20, relu; bias=false), Dense(20 => 20, relu; bias=false), Dense(20 => 1; bias=false))\n",
      "   Number of layers: 4 \n",
      "   Number of neurons in each layer: [18, 20, 20, 1]\n"
     ]
    },
    {
     "data": {
      "text/plain": [
       "(Chain(Dense(18 => 20, relu; bias=false), Dense(20 => 20, relu; bias=false), Dense(20 => 1; bias=false)), AMSGrad(0.001, (0.9, 0.999), 1.0e-8, IdDict{Any, Any}()), Any[[0.0, 0.0, 0.0, 0.0, 0.0, 0.0, 0.0, 0.0, 0.0, 0.0  …  1.004, 1.005, 1.006, 1.005, 1.006, 1.006, 1.007, 1.007, 1.007, 1.007], [0.0, 0.0, 0.0, 0.0, 0.0, 0.0, 0.0, 0.0, 0.0, 0.0  …  1.003, 1.003, 1.003, 1.004, 1.004, 1.004, 1.005, 1.005, 1.004, 1.005], [0.0, 0.0, 0.0, 0.0, 0.0, 0.0, 0.0, 0.0, 0.0, 0.0  …  1.004, 1.004, 1.004, 1.005, 1.005, 1.005, 1.005, 1.005, 1.005, 1.005], [0.0, 0.0, 0.0, 0.0, 0.0, 0.0, 0.0, 0.0, 0.0, 0.0  …  1.004, 1.004, 1.005, 1.004, 1.006, 1.003, 1.004, 1.004, 1.005, 1.004]])"
      ]
     },
     "execution_count": 1,
     "metadata": {},
     "output_type": "execute_result"
    }
   ],
   "source": [
    "using LinearAlgebra\n",
    "using Dates\n",
    "\n",
    "using Plots\n",
    "using BenchmarkTools\n",
    "\n",
    "BLAS.set_num_threads(1)\n",
    "\n",
    "include(\"src/io.jl\")\n",
    "include(\"src/distances.jl\")\n",
    "include(\"src/optimizer.jl\")\n",
    "include(\"src/network.jl\")\n",
    "include(\"src/symmfunctions.jl\")\n",
    "include(\"src/base.jl\")\n",
    "include(\"src/pretraining.jl\")\n",
    "\n",
    "# Initialize the parameters\n",
    "globalParms, MCParms, NNParms, preTrainParms, systemParmsList = parametersInit()\n",
    "\n",
    "# Initialize the input data\n",
    "inputs = inputInit(globalParms, NNParms, preTrainParms, systemParmsList)\n",
    "if globalParms.mode == \"training\"\n",
    "    model, opt, refRDFs = inputs\n",
    "else\n",
    "    model = inputs\n",
    "end"
   ]
  },
  {
   "cell_type": "code",
   "execution_count": 2,
   "metadata": {},
   "outputs": [
    {
     "name": "stdout",
     "output_type": "stream",
     "text": [
      "Using the following symmetry functions as the neural input for each atom:\n",
      "    G2 symmetry functions:\n",
      "    eta, Å^-2; rcutoff, Å; rshift, Å\n",
      "       G2(0.003, 6.0, 0.0)\n",
      "       G2(0.03, 6.0, 0.0)\n",
      "       G2(0.1, 6.0, 0.0)\n",
      "       G2(0.2, 6.0, 0.0)\n",
      "       G2(0.5, 6.0, 3.35)\n",
      "       G2(1.0, 6.0, 3.35)\n",
      "       G2(2.0, 6.0, 3.35)\n",
      "       G2(5.0, 6.0, 3.35)\n",
      "       G2(0.5, 6.0, 4.5)\n",
      "       G2(1.0, 6.0, 4.5)\n",
      "       G2(2.0, 6.0, 4.5)\n",
      "       G2(5.0, 6.0, 4.5)\n",
      "       G2(0.5, 9.0, 7.75)\n",
      "       G2(1.0, 9.0, 7.75)\n",
      "       G2(2.0, 9.0, 7.75)\n",
      "       G2(5.0, 9.0, 7.75)\n",
      "    G9 symmetry functions:\n",
      "    eta, Å^-2; lambda; zeta; rcutoff, Å; rshift, Å\n",
      "       G9(0.125, 1, 1.0, 6.0, 0.0)\n",
      "       G9(0.125, -1, 1.0, 6.0, 0.0)\n",
      "Maximum cutoff distance: 9.0 Å\n"
     ]
    }
   ],
   "source": [
    "    println(\"Using the following symmetry functions as the neural input for each atom:\")\n",
    "    if NNParms.G2Functions != []\n",
    "        println(\"    G2 symmetry functions:\")\n",
    "        println(\"    eta, Å^-2; rcutoff, Å; rshift, Å\")\n",
    "        for G2Function in NNParms.G2Functions\n",
    "            println(\"       \", G2Function)\n",
    "        end\n",
    "    end\n",
    "    if NNParms.G9Functions != []\n",
    "        println(\"    G9 symmetry functions:\")\n",
    "        println(\"    eta, Å^-2; lambda; zeta; rcutoff, Å; rshift, Å\")\n",
    "        for G9Function in NNParms.G9Functions\n",
    "            println(\"       \", G9Function)\n",
    "        end\n",
    "    end\n",
    "    println(\"Maximum cutoff distance: $(NNParms.maxDistanceCutoff) Å\")"
   ]
  },
  {
   "cell_type": "code",
   "execution_count": 3,
   "metadata": {},
   "outputs": [],
   "source": [
    "systemParms = systemParmsList[1];"
   ]
  },
  {
   "cell_type": "code",
   "execution_count": 4,
   "metadata": {},
   "outputs": [],
   "source": [
    "traj = readXTC(systemParms)\n",
    "frame = read_step(traj, 1)\n",
    "coordinates = positions(frame)\n",
    "box = lengths(UnitCell(frame));"
   ]
  },
  {
   "cell_type": "code",
   "execution_count": 5,
   "metadata": {},
   "outputs": [],
   "source": [
    "distanceMatrix = buildDistanceMatrix(frame);"
   ]
  },
  {
   "cell_type": "code",
   "execution_count": 6,
   "metadata": {},
   "outputs": [],
   "source": [
    "G2Matrix = buildG2Matrix(distanceMatrix, NNParms.G2Functions);"
   ]
  },
  {
   "cell_type": "code",
   "execution_count": 7,
   "metadata": {},
   "outputs": [
    {
     "name": "stdout",
     "output_type": "stream",
     "text": [
      "  31.424 ms (514 allocations: 2.13 MiB)\n"
     ]
    }
   ],
   "source": [
    "@btime buildG2Matrix($distanceMatrix, $NNParms.G2Functions);"
   ]
  },
  {
   "cell_type": "code",
   "execution_count": 8,
   "metadata": {},
   "outputs": [],
   "source": [
    "pointIndex = 1;"
   ]
  },
  {
   "cell_type": "code",
   "execution_count": 9,
   "metadata": {},
   "outputs": [
    {
     "data": {
      "text/plain": [
       "512-element Vector{Float64}:\n",
       "  0.0\n",
       "  7.091892808138942\n",
       " 15.854950124730799\n",
       " 17.4607272015029\n",
       " 12.027773352854163\n",
       "  6.82341543296718\n",
       " 13.098859274949335\n",
       " 11.326277833108653\n",
       " 19.656198560684448\n",
       " 15.23458176314022\n",
       "  9.032409199465086\n",
       " 15.041669488657645\n",
       " 15.268684775800134\n",
       "  ⋮\n",
       " 18.560362730062472\n",
       " 14.736974614013517\n",
       " 20.77740909565999\n",
       " 16.196676724150503\n",
       " 15.990429100693698\n",
       " 11.823270083877945\n",
       " 13.597919877031464\n",
       " 13.102531054745459\n",
       " 14.870004024270196\n",
       "  9.683171701468305\n",
       " 15.980994682509369\n",
       " 20.827134860816255"
      ]
     },
     "execution_count": 9,
     "metadata": {},
     "output_type": "execute_result"
    }
   ],
   "source": [
    "distanceVector1 = distanceMatrix[:, pointIndex]"
   ]
  },
  {
   "cell_type": "code",
   "execution_count": 10,
   "metadata": {},
   "outputs": [
    {
     "data": {
      "text/plain": [
       "3-element Vector{Float64}:\n",
       " 18.08000087738037\n",
       "  4.760000109672546\n",
       " 27.280001640319824"
      ]
     },
     "execution_count": 10,
     "metadata": {},
     "output_type": "execute_result"
    }
   ],
   "source": [
    "positions(frame)[:, pointIndex]"
   ]
  },
  {
   "cell_type": "code",
   "execution_count": 11,
   "metadata": {},
   "outputs": [
    {
     "data": {
      "text/plain": [
       "3-element view(::Chemfiles.ChemfilesArray, :, 1) with eltype Float64:\n",
       " 19.08000087738037\n",
       "  7.760000109672546\n",
       " 28.280001640319824"
      ]
     },
     "execution_count": 11,
     "metadata": {},
     "output_type": "execute_result"
    }
   ],
   "source": [
    "positions(frame)[:, pointIndex] .+= [1.0, 3.0, 1.0]"
   ]
  },
  {
   "cell_type": "code",
   "execution_count": 12,
   "metadata": {},
   "outputs": [],
   "source": [
    "point = positions(frame)[:, pointIndex];"
   ]
  },
  {
   "cell_type": "code",
   "execution_count": 13,
   "metadata": {},
   "outputs": [],
   "source": [
    "distanceVector2 = computeDistanceVector(point, positions(frame), box);"
   ]
  },
  {
   "cell_type": "code",
   "execution_count": 14,
   "metadata": {},
   "outputs": [
    {
     "data": {
      "text/plain": [
       "512-element Vector{Float64}:\n",
       "  0.0\n",
       "  9.323734012019308\n",
       " 15.944260634678791\n",
       " 14.793398203066541\n",
       " 13.395224984551355\n",
       "  6.86141381803289\n",
       " 12.693309954643011\n",
       " 10.455247908232364\n",
       " 18.502598188642576\n",
       " 16.510286278632403\n",
       "  9.607518721043\n",
       " 14.881257478894032\n",
       " 14.645831339861829\n",
       "  ⋮\n",
       " 15.862367411961147\n",
       " 15.700268218658977\n",
       " 21.41198464553139\n",
       " 19.19659908280115\n",
       " 16.943072847426997\n",
       " 10.984066301256382\n",
       " 11.132987830312294\n",
       " 10.438580466801229\n",
       " 17.18246264372193\n",
       "  6.817903806990695\n",
       " 19.098409989080544\n",
       " 21.142525625335754"
      ]
     },
     "execution_count": 14,
     "metadata": {},
     "output_type": "execute_result"
    }
   ],
   "source": [
    "distanceMatrix[pointIndex, :] = distanceVector2\n",
    "distanceMatrix[:, pointIndex] = distanceVector2"
   ]
  },
  {
   "cell_type": "code",
   "execution_count": 15,
   "metadata": {},
   "outputs": [],
   "source": [
    "G2MatrixUpdated = buildG2Matrix(distanceMatrix, NNParms.G2Functions);"
   ]
  },
  {
   "cell_type": "code",
   "execution_count": 16,
   "metadata": {},
   "outputs": [
    {
     "data": {
      "text/plain": [
       "6.734293944636168"
      ]
     },
     "execution_count": 16,
     "metadata": {},
     "output_type": "execute_result"
    }
   ],
   "source": [
    "sum(G2MatrixUpdated .- G2Matrix)"
   ]
  },
  {
   "cell_type": "code",
   "execution_count": 17,
   "metadata": {},
   "outputs": [
    {
     "data": {
      "text/plain": [
       "3.367146972318084"
      ]
     },
     "execution_count": 17,
     "metadata": {},
     "output_type": "execute_result"
    }
   ],
   "source": [
    "sum(G2MatrixUpdated[pointIndex, :] .- G2Matrix[pointIndex, :])"
   ]
  },
  {
   "cell_type": "code",
   "execution_count": 18,
   "metadata": {},
   "outputs": [],
   "source": [
    "G2MatrixOriginal = copy(G2Matrix);"
   ]
  },
  {
   "cell_type": "code",
   "execution_count": 19,
   "metadata": {},
   "outputs": [
    {
     "data": {
      "text/plain": [
       "true"
      ]
     },
     "execution_count": 19,
     "metadata": {},
     "output_type": "execute_result"
    }
   ],
   "source": [
    "G2Matrix == G2MatrixOriginal"
   ]
  },
  {
   "cell_type": "code",
   "execution_count": 20,
   "metadata": {},
   "outputs": [],
   "source": [
    "updateG2Matrix!(G2Matrix, distanceVector1, distanceVector2, systemParms, NNParms.G2Functions, pointIndex);"
   ]
  },
  {
   "cell_type": "code",
   "execution_count": 21,
   "metadata": {},
   "outputs": [
    {
     "data": {
      "text/plain": [
       "false"
      ]
     },
     "execution_count": 21,
     "metadata": {},
     "output_type": "execute_result"
    }
   ],
   "source": [
    "G2Matrix == G2MatrixOriginal"
   ]
  },
  {
   "cell_type": "code",
   "execution_count": 22,
   "metadata": {},
   "outputs": [
    {
     "data": {
      "text/plain": [
       "6.734293944636168"
      ]
     },
     "execution_count": 22,
     "metadata": {},
     "output_type": "execute_result"
    }
   ],
   "source": [
    "sum(G2MatrixUpdated .- G2MatrixOriginal)"
   ]
  },
  {
   "cell_type": "code",
   "execution_count": 23,
   "metadata": {},
   "outputs": [
    {
     "data": {
      "text/plain": [
       "-3.58046925441613e-15"
      ]
     },
     "execution_count": 23,
     "metadata": {},
     "output_type": "execute_result"
    }
   ],
   "source": [
    "sum(G2MatrixUpdated .- G2Matrix)"
   ]
  },
  {
   "cell_type": "code",
   "execution_count": 26,
   "metadata": {},
   "outputs": [
    {
     "name": "stdout",
     "output_type": "stream",
     "text": [
      "  65.936 μs (0 allocations: 0 bytes)\n"
     ]
    }
   ],
   "source": [
    "@btime updateG2Matrix!($G2Matrix, $distanceVector1, $distanceVector2, $systemParms, $NNParms.G2Functions, $pointIndex);"
   ]
  },
  {
   "cell_type": "code",
   "execution_count": 24,
   "metadata": {},
   "outputs": [],
   "source": [
    "updateG2Matrix!(G2Matrix, distanceVector2, distanceVector1, systemParms, NNParms.G2Functions, pointIndex);"
   ]
  },
  {
   "cell_type": "code",
   "execution_count": 25,
   "metadata": {},
   "outputs": [
    {
     "data": {
      "text/plain": [
       "2.498001805406602e-16"
      ]
     },
     "execution_count": 25,
     "metadata": {},
     "output_type": "execute_result"
    }
   ],
   "source": [
    "sum(G2MatrixOriginal .- G2Matrix)"
   ]
  },
  {
   "cell_type": "code",
   "execution_count": 39,
   "metadata": {},
   "outputs": [
    {
     "data": {
      "text/plain": [
       "12-element Vector{Float64}:\n",
       " -0.03976933722389564\n",
       " -0.01915880572800721\n",
       " -0.0028843643786344852\n",
       " -0.000192889985448641\n",
       " -0.007778179461118695\n",
       " -0.0014027017915146933\n",
       " -4.5618409220127276e-5\n",
       " -1.5691500876435782e-9\n",
       " -0.033737549851149407\n",
       " -0.026389825102947517\n",
       " -0.01614665096152279\n",
       " -0.003698454612707791"
      ]
     },
     "execution_count": 39,
     "metadata": {},
     "output_type": "execute_result"
    }
   ],
   "source": [
    "G2MatrixOriginal[31, :] .- G2Matrix[31, :]"
   ]
  },
  {
   "cell_type": "code",
   "execution_count": 40,
   "metadata": {},
   "outputs": [
    {
     "data": {
      "text/plain": [
       "0.997004495503373"
      ]
     },
     "execution_count": 40,
     "metadata": {},
     "output_type": "execute_result"
    }
   ],
   "source": [
    "computeG2Element(0.0, 0.003, 6.0, 1.0)"
   ]
  },
  {
   "cell_type": "code",
   "execution_count": 6,
   "metadata": {},
   "outputs": [
    {
     "data": {
      "text/plain": [
       "Chain(\n",
       "  Dense(20 => 20, relu; bias=false),    \u001b[90m# 400 parameters\u001b[39m\n",
       "  Dense(20 => 20, relu; bias=false),    \u001b[90m# 400 parameters\u001b[39m\n",
       "  Dense(20 => 1; bias=false),           \u001b[90m# 20 parameters\u001b[39m\n",
       ") \u001b[90m                  # Total: 3 arrays, \u001b[39m820 parameters, 6.664 KiB."
      ]
     },
     "execution_count": 6,
     "metadata": {},
     "output_type": "execute_result"
    }
   ],
   "source": [
    "model"
   ]
  },
  {
   "cell_type": "code",
   "execution_count": 65,
   "metadata": {},
   "outputs": [],
   "source": [
    "inputdata = rand(Float64, (512, 14));\n",
    "inputlayer = inputdata[1, :];"
   ]
  },
  {
   "cell_type": "code",
   "execution_count": 67,
   "metadata": {},
   "outputs": [
    {
     "name": "stdout",
     "output_type": "stream",
     "text": [
      "  275.132 ns (6 allocations: 1.00 KiB)\n"
     ]
    },
    {
     "data": {
      "text/plain": [
       "0.296728100444809"
      ]
     },
     "execution_count": 67,
     "metadata": {},
     "output_type": "execute_result"
    }
   ],
   "source": [
    "@btime atomicEnergy($inputlayer, $model)"
   ]
  },
  {
   "cell_type": "code",
   "execution_count": 92,
   "metadata": {},
   "outputs": [
    {
     "name": "stdout",
     "output_type": "stream",
     "text": [
      "  154.099 μs (3585 allocations: 600.02 KiB)\n"
     ]
    },
    {
     "data": {
      "text/plain": [
       "387.64894878504174"
      ]
     },
     "execution_count": 92,
     "metadata": {},
     "output_type": "execute_result"
    }
   ],
   "source": [
    "@btime totalEnergyScalar(inputdata, model)"
   ]
  },
  {
   "cell_type": "code",
   "execution_count": 87,
   "metadata": {},
   "outputs": [
    {
     "data": {
      "text/plain": [
       "0.296728100444809"
      ]
     },
     "execution_count": 87,
     "metadata": {},
     "output_type": "execute_result"
    }
   ],
   "source": [
    "atomicEnergy(inputdata[1, :], model)"
   ]
  },
  {
   "cell_type": "code",
   "execution_count": 7,
   "metadata": {},
   "outputs": [
    {
     "data": {
      "text/plain": [
       "3-element Vector{Matrix{Float64}}:\n",
       " [2415.920543679994 2547.4565519338016 … 2191.36532301734 1912.3621881613617; 0.0 0.0 … 0.0 0.0; … ; 3034.7183653662732 3199.945132032516 … 2752.6470638218057 2402.181921432444; 0.0 0.0 … 0.0 0.0]\n",
       " [-1627.2656754914422 -0.0 … -1116.289223062292 -0.0; 2578.3771711348572 0.0 … 1768.7429240824147 0.0; … ; 1373.4965021267865 0.0 … 942.2059140864284 0.0; 0.0 0.0 … 0.0 0.0]\n",
       " [5444.763771149569 7445.66566094606 … 9993.053626551657 0.0]"
      ]
     },
     "execution_count": 7,
     "metadata": {},
     "output_type": "execute_result"
    }
   ],
   "source": [
    "energyGradients = computeEnergyGradients(G2Matrix, model)"
   ]
  },
  {
   "cell_type": "code",
   "execution_count": 8,
   "metadata": {},
   "outputs": [
    {
     "name": "stdout",
     "output_type": "stream",
     "text": [
      "  6.449 ms (20057 allocations: 88.38 MiB)\n"
     ]
    },
    {
     "data": {
      "text/plain": [
       "3-element Vector{Matrix{Float64}}:\n",
       " [2415.920543679994 2547.4565519338016 … 2191.36532301734 1912.3621881613617; 0.0 0.0 … 0.0 0.0; … ; 3034.7183653662732 3199.945132032516 … 2752.6470638218057 2402.181921432444; 0.0 0.0 … 0.0 0.0]\n",
       " [-1627.2656754914422 -0.0 … -1116.289223062292 -0.0; 2578.3771711348572 0.0 … 1768.7429240824147 0.0; … ; 1373.4965021267865 0.0 … 942.2059140864284 0.0; 0.0 0.0 … 0.0 0.0]\n",
       " [5444.763771149569 7445.66566094606 … 9993.053626551657 0.0]"
      ]
     },
     "execution_count": 8,
     "metadata": {},
     "output_type": "execute_result"
    }
   ],
   "source": [
    "@btime computeEnergyGradients($G2Matrix, $model)"
   ]
  },
  {
   "cell_type": "code",
   "execution_count": 5,
   "metadata": {},
   "outputs": [],
   "source": [
    "cutoff = 6.0 # Å\n",
    "rs = 0.0 # Å \n",
    "eta = 0.1 # Å^-2\n",
    "lambda = 1.0\n",
    "zeta = 1.0;"
   ]
  },
  {
   "cell_type": "code",
   "execution_count": 6,
   "metadata": {},
   "outputs": [],
   "source": [
    "distanceVector = distanceMatrix[:, 1];"
   ]
  },
  {
   "cell_type": "code",
   "execution_count": 7,
   "metadata": {},
   "outputs": [
    {
     "data": {
      "text/plain": [
       "computeCosAngle (generic function with 1 method)"
      ]
     },
     "execution_count": 7,
     "metadata": {},
     "output_type": "execute_result"
    }
   ],
   "source": [
    "function computeCosAngle(coordinates, i, j, k, distance_ij, distance_ik)::Float64\n",
    "    @assert i != j && i != k && k != j \n",
    "    vector_0i = coordinates[:, i]\n",
    "    vector_ij = coordinates[:, j] .- vector_0i\n",
    "    vector_ik = coordinates[:, k] .- vector_0i\n",
    "    cosAngle = dot(vector_ij, vector_ik) / (distance_ij * distance_ik)\n",
    "    return (cosAngle)\n",
    "end"
   ]
  },
  {
   "cell_type": "code",
   "execution_count": 8,
   "metadata": {},
   "outputs": [
    {
     "name": "stdout",
     "output_type": "stream",
     "text": [
      "  142.165 ns (9 allocations: 480 bytes)\n"
     ]
    },
    {
     "data": {
      "text/plain": [
       "0.7169325422695667"
      ]
     },
     "execution_count": 8,
     "metadata": {},
     "output_type": "execute_result"
    }
   ],
   "source": [
    "@btime computeCosAngle($coordinates, 1, 461, 483, distanceVector[461], distanceVector[483])"
   ]
  },
  {
   "cell_type": "code",
   "execution_count": 9,
   "metadata": {},
   "outputs": [
    {
     "data": {
      "text/plain": [
       "G9 (generic function with 3 methods)"
      ]
     },
     "execution_count": 9,
     "metadata": {},
     "output_type": "execute_result"
    }
   ],
   "source": [
    "function G9(cosAngle, distance_ij, distance_ik, cutoff, eta, zeta, lambda=1.0, rshift=0.0)::Float64\n",
    "    return (\n",
    "        (1.0 + lambda * cosAngle)^zeta * \n",
    "        exp(-eta * (\n",
    "                (distance_ij - rshift)^2 + \n",
    "                (distance_ik - rshift)^2)\n",
    "                ) * \n",
    "        distanceCutoff(distance_ij, cutoff) * \n",
    "        distanceCutoff(distance_ik, cutoff))\n",
    "end        "
   ]
  },
  {
   "cell_type": "code",
   "execution_count": 10,
   "metadata": {},
   "outputs": [
    {
     "data": {
      "text/plain": [
       "G3 (generic function with 3 methods)"
      ]
     },
     "execution_count": 10,
     "metadata": {},
     "output_type": "execute_result"
    }
   ],
   "source": [
    "function G3(cosAngle, distance_ij, distance_ik, distance_kj, cutoff, eta, zeta, lambda=1.0, rshift=0.0)::Float64\n",
    "    return (\n",
    "        (1.0 + lambda * cosAngle)^zeta * \n",
    "        exp(-eta * (\n",
    "                (distance_ij - rshift)^2 + \n",
    "                (distance_ik - rshift)^2 +\n",
    "                (distance_kj - rshift)^2)) * \n",
    "        distanceCutoff(distance_ij, cutoff) * \n",
    "        distanceCutoff(distance_ik, cutoff) *\n",
    "        distanceCutoff(distance_kj, cutoff))\n",
    "end        "
   ]
  },
  {
   "cell_type": "code",
   "execution_count": 11,
   "metadata": {},
   "outputs": [
    {
     "data": {
      "text/plain": [
       "G9total (generic function with 3 methods)"
      ]
     },
     "execution_count": 11,
     "metadata": {},
     "output_type": "execute_result"
    }
   ],
   "source": [
    "function G9total(i, coordinates, distanceMatrix, cutoff, eta, zeta, lambda=1.0, rshift=0.0)::Float64\n",
    "    sum = 0.0\n",
    "    distanceVector = distanceMatrix[:, i];\n",
    "    N = length(distanceVector)\n",
    "    @inbounds for k in eachindex(distanceVector)\n",
    "        distance_ik = distanceVector[k]\n",
    "        @inbounds for j in 1:k-1\n",
    "            distance_ij = distanceVector[j]\n",
    "            if 0 < distance_ij < cutoff && 0 < distance_ik < cutoff\n",
    "                cosAngle = computeCosAngle(coordinates, i, j, k, distance_ij, distance_ik)\n",
    "                sum += G9(cosAngle, distance_ij, distance_ik, cutoff, eta, zeta, lambda, rshift)\n",
    "            end\n",
    "        end\n",
    "    end\n",
    "    return (2.0^(1.0 - zeta) * sum)\n",
    "end"
   ]
  },
  {
   "cell_type": "code",
   "execution_count": 12,
   "metadata": {},
   "outputs": [
    {
     "name": "stdout",
     "output_type": "stream",
     "text": [
      "  11.758 μs (333 allocations: 29.95 KiB)\n"
     ]
    },
    {
     "data": {
      "text/plain": [
       "0.6491223630240601"
      ]
     },
     "execution_count": 12,
     "metadata": {},
     "output_type": "execute_result"
    }
   ],
   "source": [
    "@btime G9total(5, $coordinates, $distanceMatrix, cutoff, eta, 1.0, 1.0)"
   ]
  },
  {
   "cell_type": "code",
   "execution_count": 13,
   "metadata": {},
   "outputs": [
    {
     "data": {
      "text/plain": [
       "0.6491223630240601"
      ]
     },
     "execution_count": 13,
     "metadata": {},
     "output_type": "execute_result"
    }
   ],
   "source": [
    "G9total(5, coordinates, distanceMatrix, cutoff, eta, 1.0, 1.0)"
   ]
  },
  {
   "attachments": {},
   "cell_type": "markdown",
   "metadata": {},
   "source": [
    "I will implement the G3total function later (because an additional distance has to be computed)"
   ]
  },
  {
   "cell_type": "code",
   "execution_count": 15,
   "metadata": {},
   "outputs": [
    {
     "name": "stdout",
     "output_type": "stream",
     "text": [
      "  6.737 ms (2 allocations: 2.00 MiB)\n"
     ]
    }
   ],
   "source": [
    "@btime buildDistanceMatrix_old($frame);"
   ]
  },
  {
   "cell_type": "code",
   "execution_count": 16,
   "metadata": {},
   "outputs": [
    {
     "name": "stdout",
     "output_type": "stream",
     "text": [
      "  5.273 ms (3080 allocations: 12.27 MiB)\n"
     ]
    }
   ],
   "source": [
    "@btime buildDistanceMatrix($frame);"
   ]
  },
  {
   "cell_type": "code",
   "execution_count": 17,
   "metadata": {},
   "outputs": [
    {
     "data": {
      "text/plain": [
       "true"
      ]
     },
     "execution_count": 17,
     "metadata": {},
     "output_type": "execute_result"
    }
   ],
   "source": [
    "distanceMatrix1 = buildDistanceMatrix_old(frame)\n",
    "distanceMatrix2 = buildDistanceMatrix(frame)\n",
    "distanceMatrix1 == distanceMatrix2"
   ]
  },
  {
   "cell_type": "code",
   "execution_count": 18,
   "metadata": {},
   "outputs": [],
   "source": [
    "distanceVector = distanceMatrix[:, 1];"
   ]
  },
  {
   "cell_type": "code",
   "execution_count": 19,
   "metadata": {},
   "outputs": [
    {
     "name": "stdout",
     "output_type": "stream",
     "text": [
      "  435.050 ns (1 allocation: 4.12 KiB)\n"
     ]
    }
   ],
   "source": [
    "@btime $distanceMatrix[:, $1];"
   ]
  },
  {
   "cell_type": "code",
   "execution_count": 31,
   "metadata": {},
   "outputs": [
    {
     "data": {
      "text/plain": [
       "3-element Vector{Float64}:\n",
       " 15.830000638961792\n",
       " 32.47000217437744\n",
       " 31.760001182556152"
      ]
     },
     "execution_count": 31,
     "metadata": {},
     "output_type": "execute_result"
    }
   ],
   "source": [
    "coordinates = positions(frame);\n",
    "r1 = coordinates[:, 1]\n",
    "r2 = coordinates[:, 2]"
   ]
  },
  {
   "cell_type": "code",
   "execution_count": 35,
   "metadata": {},
   "outputs": [],
   "source": [
    "distanceVector1 = distanceMatrix[:, 2];"
   ]
  },
  {
   "cell_type": "code",
   "execution_count": 37,
   "metadata": {},
   "outputs": [],
   "source": [
    "distanceVector2 = computeDistanceVector(r2, coordinates, box);"
   ]
  },
  {
   "cell_type": "code",
   "execution_count": 33,
   "metadata": {},
   "outputs": [
    {
     "data": {
      "text/plain": [
       "true"
      ]
     },
     "execution_count": 33,
     "metadata": {},
     "output_type": "execute_result"
    }
   ],
   "source": [
    "distanceVector1 == distanceVector2"
   ]
  },
  {
   "cell_type": "code",
   "execution_count": 40,
   "metadata": {},
   "outputs": [
    {
     "name": "stdout",
     "output_type": "stream",
     "text": [
      "  10.216 μs (0 allocations: 0 bytes)\n"
     ]
    }
   ],
   "source": [
    "@btime updateDistance!($frame, $distanceVector, $1);"
   ]
  },
  {
   "cell_type": "code",
   "execution_count": 41,
   "metadata": {},
   "outputs": [
    {
     "name": "stdout",
     "output_type": "stream",
     "text": [
      "  6.400 μs (5 allocations: 20.45 KiB)\n"
     ]
    }
   ],
   "source": [
    "@btime computeDistanceVector($r1, $coordinates, $box);"
   ]
  }
 ],
 "metadata": {
  "kernelspec": {
   "display_name": "Julia 1.8.1",
   "language": "julia",
   "name": "julia-1.8"
  },
  "language_info": {
   "file_extension": ".jl",
   "mimetype": "application/julia",
   "name": "julia",
   "version": "1.8.1"
  },
  "orig_nbformat": 4
 },
 "nbformat": 4,
 "nbformat_minor": 2
}
