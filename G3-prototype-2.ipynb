{
 "cells": [
  {
   "cell_type": "code",
   "execution_count": 1,
   "metadata": {},
   "outputs": [
    {
     "name": "stdout",
     "output_type": "stream",
     "text": [
      "Running ML-IMC in the training mode.\n",
      "Building a model...\n",
      "Chain(Dense(14 => 20, relu; bias=false), Dense(20 => 20, relu; bias=false), Dense(20 => 1; bias=false))\n",
      "   Number of layers: 4 \n",
      "   Number of neurons in each layer: [14, 20, 20, 1]\n"
     ]
    },
    {
     "data": {
      "text/plain": [
       "(Chain(Dense(14 => 20, relu; bias=false), Dense(20 => 20, relu; bias=false), Dense(20 => 1; bias=false)), AMSGrad(0.001, (0.9, 0.999), 1.0e-8, IdDict{Any, Any}()), Any[[0.0, 0.0, 0.0, 0.0, 0.0, 0.0, 0.0, 0.0, 0.0, 0.0  …  1.004, 1.005, 1.006, 1.005, 1.006, 1.006, 1.007, 1.007, 1.007, 1.007], [0.0, 0.0, 0.0, 0.0, 0.0, 0.0, 0.0, 0.0, 0.0, 0.0  …  1.003, 1.003, 1.003, 1.004, 1.004, 1.004, 1.005, 1.005, 1.004, 1.005], [0.0, 0.0, 0.0, 0.0, 0.0, 0.0, 0.0, 0.0, 0.0, 0.0  …  1.004, 1.004, 1.004, 1.005, 1.005, 1.005, 1.005, 1.005, 1.005, 1.005], [0.0, 0.0, 0.0, 0.0, 0.0, 0.0, 0.0, 0.0, 0.0, 0.0  …  1.004, 1.004, 1.005, 1.004, 1.006, 1.003, 1.004, 1.004, 1.005, 1.004]])"
      ]
     },
     "execution_count": 1,
     "metadata": {},
     "output_type": "execute_result"
    }
   ],
   "source": [
    "using LinearAlgebra\n",
    "using Dates\n",
    "\n",
    "using Plots\n",
    "using BenchmarkTools\n",
    "\n",
    "BLAS.set_num_threads(1)\n",
    "\n",
    "include(\"src/io.jl\")\n",
    "include(\"src/distances.jl\")\n",
    "include(\"src/optimizer.jl\")\n",
    "include(\"src/network.jl\")\n",
    "include(\"src/symmfunctions.jl\")\n",
    "include(\"src/base.jl\")\n",
    "include(\"src/pretraining.jl\")\n",
    "\n",
    "# Initialize the parameters\n",
    "globalParms, MCParms, NNParms, preTrainParms, systemParmsList = parametersInit()\n",
    "\n",
    "# Initialize the input data\n",
    "inputs = inputInit(globalParms, NNParms, preTrainParms, systemParmsList)\n",
    "if globalParms.mode == \"training\"\n",
    "    model, opt, refRDFs = inputs\n",
    "else\n",
    "    model = inputs\n",
    "end"
   ]
  },
  {
   "cell_type": "code",
   "execution_count": 2,
   "metadata": {},
   "outputs": [
    {
     "name": "stdout",
     "output_type": "stream",
     "text": [
      "Using the following symmetry functions as the neural input for each atom:\n",
      "    G2 symmetry functions:\n",
      "    eta, Å^-2; rcutoff, Å; rshift, Å\n",
      "       G2(0.003, 6.0, 0.0)\n",
      "       G2(0.03, 6.0, 0.0)\n",
      "       G2(0.1, 6.0, 0.0)\n",
      "       G2(0.2, 6.0, 0.0)\n",
      "       G2(0.5, 6.0, 3.35)\n",
      "       G2(1.0, 6.0, 3.35)\n",
      "       G2(2.0, 6.0, 3.35)\n",
      "       G2(5.0, 6.0, 3.35)\n",
      "       G2(0.5, 6.0, 4.5)\n",
      "       G2(1.0, 6.0, 4.5)\n",
      "       G2(2.0, 6.0, 4.5)\n",
      "       G2(5.0, 6.0, 4.5)\n",
      "    G9 symmetry functions:\n",
      "    eta, Å^-2; lambda; zeta; rcutoff, Å; rshift, Å\n",
      "       G9(0.125, 1, 1.0, 6.0, 0.0)\n",
      "       G9(0.125, -1, 1.0, 6.0, 0.0)\n"
     ]
    }
   ],
   "source": [
    "    println(\"Using the following symmetry functions as the neural input for each atom:\")\n",
    "    if NNParms.G2Functions != []\n",
    "        println(\"    G2 symmetry functions:\")\n",
    "        println(\"    eta, Å^-2; rcutoff, Å; rshift, Å\")\n",
    "        for G2Function in NNParms.G2Functions\n",
    "            println(\"       \", G2Function)\n",
    "        end\n",
    "    end\n",
    "    if NNParms.G9Functions != []\n",
    "        println(\"    G9 symmetry functions:\")\n",
    "        println(\"    eta, Å^-2; lambda; zeta; rcutoff, Å; rshift, Å\")\n",
    "        for G9Function in NNParms.G9Functions\n",
    "            println(\"       \", G9Function)\n",
    "        end\n",
    "    end"
   ]
  },
  {
   "cell_type": "code",
   "execution_count": 3,
   "metadata": {},
   "outputs": [],
   "source": [
    "systemParms = systemParmsList[1];"
   ]
  },
  {
   "cell_type": "code",
   "execution_count": 28,
   "metadata": {},
   "outputs": [],
   "source": [
    "traj = readXTC(systemParms)\n",
    "frame = read_step(traj, 1)\n",
    "coordinates = positions(frame)\n",
    "box = lengths(UnitCell(frame));"
   ]
  },
  {
   "cell_type": "code",
   "execution_count": 29,
   "metadata": {},
   "outputs": [
    {
     "data": {
      "text/plain": [
       "512×512 Matrix{Float64}:\n",
       "  0.0       7.09189  15.855    17.4607   …   9.68317  15.981    20.8271\n",
       "  7.09189   0.0      19.4916   14.7913      14.8578   14.2792   17.9268\n",
       " 15.855    19.4916    0.0      11.6814      19.1468   16.8733   23.2905\n",
       " 17.4607   14.7913   11.6814    0.0         14.4029   18.7578   16.7659\n",
       " 12.0278    5.86375  16.1165   13.7371      18.4128   16.9396   16.4657\n",
       "  6.82342   7.67516  16.2445   13.3721   …  12.6422   17.2571   20.5049\n",
       " 13.0989   18.7139   17.984    24.9762      11.0264   17.6202   18.7331\n",
       " 11.3263   10.5723   11.0429   10.3943      14.228    21.6119   20.0425\n",
       " 19.6562   18.8416   18.4182   13.9998      13.8353   11.5905    6.22577\n",
       " 15.2346   17.5955   23.1113   24.493       16.9502   11.3124   10.3767\n",
       "  9.03241  12.3969   11.9791   16.8481   …  15.5818   15.1848   18.55\n",
       " 15.0417   17.157    15.4381   15.8653      13.3199   15.7629   12.5644\n",
       " 15.2687   12.0559    9.79153  15.5865      16.0364   18.6892   24.1867\n",
       "  ⋮                                      ⋱             ⋮        \n",
       " 18.5604   21.4275   18.8737   15.9093   …  10.0038   22.6159   12.0208\n",
       " 14.737    17.6509    4.26218  14.6928      20.0959   16.5225   24.6851\n",
       " 20.7774   17.2833   22.0468   16.4396      18.7991   17.4602    7.92373\n",
       " 16.1967   17.0608   14.5648   13.7263      22.3921    8.71487  20.2966\n",
       " 15.9904   13.9864   21.0911   22.0198      14.0051   12.9877   11.7619\n",
       " 11.8233   16.6807   10.0192   15.127    …  15.0627   13.3963   15.6518\n",
       " 13.5979   17.0023   12.2694   14.1772      10.6025   13.5239   16.8159\n",
       " 13.1025   15.2488   11.2613    5.47984     10.1112   21.538    19.3876\n",
       " 14.87     13.3659   19.0076   21.0227      17.8513    8.07324  10.7574\n",
       "  9.68317  14.8578   19.1468   14.4029       0.0      23.5383   14.6793\n",
       " 15.981    14.2792   16.8733   18.7578   …  23.5383    0.0      11.7799\n",
       " 20.8271   17.9268   23.2905   16.7659      14.6793   11.7799    0.0"
      ]
     },
     "execution_count": 29,
     "metadata": {},
     "output_type": "execute_result"
    }
   ],
   "source": [
    "distanceMatrix = buildDistanceMatrix(frame)"
   ]
  },
  {
   "cell_type": "code",
   "execution_count": 30,
   "metadata": {},
   "outputs": [
    {
     "data": {
      "text/plain": [
       "512×12 Matrix{Float64}:\n",
       " 2.35274  1.88407  1.31836  1.08508  …  0.821824  0.615639  0.475041\n",
       " 2.57931  2.11925  1.48816  1.16131     0.554418  0.296164  0.174102\n",
       " 2.88216  2.22165  1.4174   1.0981      1.31263   0.986246  0.628015\n",
       " 2.95723  2.28464  1.46019  1.12002     1.2689    0.963069  0.621101\n",
       " 2.66877  2.05593  1.34333  1.0794      1.27734   1.0632    0.780847\n",
       " 2.42679  1.94255  1.35277  1.10012  …  0.776183  0.543296  0.367214\n",
       " 2.55469  1.93678  1.263    1.04644     1.35606   1.15287   0.808196\n",
       " 2.77007  2.19655  1.48137  1.15654     0.917392  0.67184   0.464642\n",
       " 2.497    2.0022   1.38295  1.10922     0.780579  0.50403   0.290404\n",
       " 2.7829   2.21422  1.46328  1.12337     0.98522   0.602758  0.244447\n",
       " 3.19812  2.48002  1.5701   1.16437  …  1.18      0.784615  0.437206\n",
       " 2.8682   2.26575  1.5035   1.15549     0.950804  0.66364   0.407923\n",
       " 3.05587  2.41323  1.5789   1.18409     1.00831   0.727419  0.51327\n",
       " ⋮                                   ⋱            ⋮         \n",
       " 2.62699  2.05608  1.36339  1.08833  …  1.15229   0.913268  0.655158\n",
       " 2.89843  2.23461  1.43121  1.10947     1.32849   1.10358   0.898175\n",
       " 2.50719  1.96779  1.33908  1.08841     0.857858  0.544417  0.232998\n",
       " 2.3312   1.86835  1.32626  1.09753     0.652454  0.414657  0.210928\n",
       " 2.73922  2.16775  1.44121  1.12253     1.0262    0.738135  0.42354\n",
       " 2.63755  2.098    1.42649  1.12569  …  0.789445  0.491995  0.283772\n",
       " 2.54764  2.01166  1.36143  1.0941      0.963297  0.699958  0.425339\n",
       " 3.25569  2.4971   1.5576   1.15693     1.39917   1.13177   0.969865\n",
       " 2.71996  2.07487  1.35439  1.08968     1.15519   0.90456   0.663516\n",
       " 3.025    2.30512  1.42658  1.08986     1.5866    1.23591   0.711376\n",
       " 2.82395  2.14804  1.36705  1.08254  …  1.44132   1.2348    0.985253\n",
       " 2.74684  2.1396   1.41213  1.11577     1.15244   0.944582  0.72768"
      ]
     },
     "execution_count": 30,
     "metadata": {},
     "output_type": "execute_result"
    }
   ],
   "source": [
    "G2Matrix = buildG2Matrix(distanceMatrix, NNParms.G2Functions)"
   ]
  },
  {
   "cell_type": "code",
   "execution_count": 8,
   "metadata": {},
   "outputs": [
    {
     "name": "stdout",
     "output_type": "stream",
     "text": [
      "  22.548 ms (514 allocations: 2.11 MiB)\n"
     ]
    }
   ],
   "source": [
    "@btime buildG2Matrix($distanceMatrix, $NNParms.G2Functions);"
   ]
  },
  {
   "cell_type": "code",
   "execution_count": 31,
   "metadata": {},
   "outputs": [],
   "source": [
    "pointIndex = 1;"
   ]
  },
  {
   "cell_type": "code",
   "execution_count": 32,
   "metadata": {},
   "outputs": [
    {
     "data": {
      "text/plain": [
       "512-element Vector{Float64}:\n",
       "  0.0\n",
       "  7.091892808138942\n",
       " 15.854950124730799\n",
       " 17.4607272015029\n",
       " 12.027773352854163\n",
       "  6.82341543296718\n",
       " 13.098859274949335\n",
       " 11.326277833108653\n",
       " 19.656198560684448\n",
       " 15.23458176314022\n",
       "  9.032409199465086\n",
       " 15.041669488657645\n",
       " 15.268684775800134\n",
       "  ⋮\n",
       " 18.560362730062472\n",
       " 14.736974614013517\n",
       " 20.77740909565999\n",
       " 16.196676724150503\n",
       " 15.990429100693698\n",
       " 11.823270083877945\n",
       " 13.597919877031464\n",
       " 13.102531054745459\n",
       " 14.870004024270196\n",
       "  9.683171701468305\n",
       " 15.980994682509369\n",
       " 20.827134860816255"
      ]
     },
     "execution_count": 32,
     "metadata": {},
     "output_type": "execute_result"
    }
   ],
   "source": [
    "distanceVector1 = distanceMatrix[:, pointIndex]"
   ]
  },
  {
   "cell_type": "code",
   "execution_count": 33,
   "metadata": {},
   "outputs": [
    {
     "data": {
      "text/plain": [
       "3-element Vector{Float64}:\n",
       " 18.08000087738037\n",
       "  4.760000109672546\n",
       " 27.280001640319824"
      ]
     },
     "execution_count": 33,
     "metadata": {},
     "output_type": "execute_result"
    }
   ],
   "source": [
    "positions(frame)[:, pointIndex]"
   ]
  },
  {
   "cell_type": "code",
   "execution_count": 34,
   "metadata": {},
   "outputs": [
    {
     "data": {
      "text/plain": [
       "3-element view(::Chemfiles.ChemfilesArray, :, 1) with eltype Float64:\n",
       " 18.58000087738037\n",
       "  5.760000109672546\n",
       " 27.530001640319824"
      ]
     },
     "execution_count": 34,
     "metadata": {},
     "output_type": "execute_result"
    }
   ],
   "source": [
    "positions(frame)[:, pointIndex] .+= [0.5, 1.0, 0.25]"
   ]
  },
  {
   "cell_type": "code",
   "execution_count": 35,
   "metadata": {},
   "outputs": [],
   "source": [
    "point = positions(frame)[:, pointIndex];"
   ]
  },
  {
   "cell_type": "code",
   "execution_count": 36,
   "metadata": {},
   "outputs": [],
   "source": [
    "distanceVector2 = computeDistanceVector(point, positions(frame), box);"
   ]
  },
  {
   "cell_type": "code",
   "execution_count": 37,
   "metadata": {},
   "outputs": [
    {
     "data": {
      "text/plain": [
       "512-element Vector{Float64}:\n",
       "  0.0\n",
       "  7.851738727625623\n",
       " 15.78803169183056\n",
       " 16.631638615967013\n",
       " 12.54249185439215\n",
       "  6.837141116555358\n",
       " 12.68552778681243\n",
       " 11.09071589699985\n",
       " 19.345507005851747\n",
       " 15.436234584607027\n",
       "  9.221546281023974\n",
       " 15.05338241196147\n",
       " 15.068249564958611\n",
       "  ⋮\n",
       " 17.57360159287757\n",
       " 14.979349826898726\n",
       " 20.85332870075784\n",
       " 17.159463758743524\n",
       " 16.639601056092584\n",
       " 11.524418177173946\n",
       " 12.706137202826636\n",
       " 12.251152215277234\n",
       " 15.737360666709632\n",
       "  8.59396958441395\n",
       " 17.080458098351816\n",
       " 21.14079528696429"
      ]
     },
     "execution_count": 37,
     "metadata": {},
     "output_type": "execute_result"
    }
   ],
   "source": [
    "distanceMatrix[pointIndex, :] = distanceVector2\n",
    "distanceMatrix[:, pointIndex] = distanceVector2"
   ]
  },
  {
   "cell_type": "code",
   "execution_count": 38,
   "metadata": {},
   "outputs": [
    {
     "data": {
      "text/plain": [
       "512×12 Matrix{Float64}:\n",
       " 2.53595  2.07024  1.44638  1.14218  …  0.726923  0.500109  0.339733\n",
       " 2.57931  2.11925  1.48816  1.16131     0.554418  0.296164  0.174102\n",
       " 2.88216  2.22165  1.4174   1.0981      1.31263   0.986246  0.628015\n",
       " 2.95723  2.28464  1.46019  1.12002     1.2689    0.963069  0.621101\n",
       " 2.66877  2.05593  1.34333  1.0794      1.27734   1.0632    0.780847\n",
       " 2.42679  1.94255  1.35277  1.10012  …  0.776183  0.543296  0.367214\n",
       " 2.55469  1.93678  1.263    1.04644     1.35606   1.15287   0.808196\n",
       " 2.77007  2.19655  1.48137  1.15654     0.917392  0.67184   0.464642\n",
       " 2.497    2.0022   1.38295  1.10922     0.780579  0.50403   0.290404\n",
       " 2.7829   2.21422  1.46328  1.12337     0.98522   0.602758  0.244447\n",
       " 3.19812  2.48002  1.5701   1.16437  …  1.18      0.784615  0.437206\n",
       " 2.8682   2.26575  1.5035   1.15549     0.950804  0.66364   0.407923\n",
       " 3.05587  2.41323  1.5789   1.18409     1.00831   0.727419  0.51327\n",
       " ⋮                                   ⋱            ⋮         \n",
       " 2.62699  2.05608  1.36339  1.08833  …  1.15229   0.913268  0.655158\n",
       " 2.89843  2.23461  1.43121  1.10947     1.32849   1.10358   0.898175\n",
       " 2.50719  1.96779  1.33908  1.08841     0.857858  0.544417  0.232998\n",
       " 2.3312   1.86835  1.32626  1.09753     0.652454  0.414657  0.210928\n",
       " 2.73922  2.16775  1.44121  1.12253     1.0262    0.738135  0.42354\n",
       " 2.63755  2.098    1.42649  1.12569  …  0.789445  0.491995  0.283772\n",
       " 2.54764  2.01166  1.36143  1.0941      0.963297  0.699958  0.425339\n",
       " 3.25569  2.4971   1.5576   1.15693     1.39917   1.13177   0.969865\n",
       " 2.71996  2.07487  1.35439  1.08968     1.15519   0.90456   0.663516\n",
       " 3.025    2.30512  1.42658  1.08986     1.5866    1.23591   0.711376\n",
       " 2.82395  2.14804  1.36705  1.08254  …  1.44132   1.2348    0.985253\n",
       " 2.74684  2.1396   1.41213  1.11577     1.15244   0.944582  0.72768"
      ]
     },
     "execution_count": 38,
     "metadata": {},
     "output_type": "execute_result"
    }
   ],
   "source": [
    "G2MatrixUpdated = buildG2Matrix(distanceMatrix, NNParms.G2Functions)"
   ]
  },
  {
   "cell_type": "code",
   "execution_count": 39,
   "metadata": {},
   "outputs": [
    {
     "data": {
      "text/plain": [
       "2.066260676296225"
      ]
     },
     "execution_count": 39,
     "metadata": {},
     "output_type": "execute_result"
    }
   ],
   "source": [
    "sum(G2MatrixUpdated .- G2Matrix)"
   ]
  },
  {
   "cell_type": "code",
   "execution_count": 40,
   "metadata": {},
   "outputs": [
    {
     "data": {
      "text/plain": [
       "1.0331303381481123"
      ]
     },
     "execution_count": 40,
     "metadata": {},
     "output_type": "execute_result"
    }
   ],
   "source": [
    "sum(G2MatrixUpdated[pointIndex, :] .- G2Matrix[pointIndex, :])"
   ]
  },
  {
   "cell_type": "code",
   "execution_count": 41,
   "metadata": {},
   "outputs": [],
   "source": [
    "G2MatrixOriginal = copy(G2Matrix);"
   ]
  },
  {
   "cell_type": "code",
   "execution_count": 42,
   "metadata": {},
   "outputs": [
    {
     "data": {
      "text/plain": [
       "true"
      ]
     },
     "execution_count": 42,
     "metadata": {},
     "output_type": "execute_result"
    }
   ],
   "source": [
    "G2Matrix == G2MatrixOriginal"
   ]
  },
  {
   "cell_type": "code",
   "execution_count": 43,
   "metadata": {},
   "outputs": [],
   "source": [
    "updateG2Matrix!(G2Matrix, distanceVector1, distanceVector2, systemParms, NNParms.G2Functions, pointIndex);"
   ]
  },
  {
   "cell_type": "code",
   "execution_count": 44,
   "metadata": {},
   "outputs": [
    {
     "data": {
      "text/plain": [
       "false"
      ]
     },
     "execution_count": 44,
     "metadata": {},
     "output_type": "execute_result"
    }
   ],
   "source": [
    "G2Matrix == G2MatrixOriginal"
   ]
  },
  {
   "cell_type": "code",
   "execution_count": 45,
   "metadata": {},
   "outputs": [
    {
     "data": {
      "text/plain": [
       "2.066260676296225"
      ]
     },
     "execution_count": 45,
     "metadata": {},
     "output_type": "execute_result"
    }
   ],
   "source": [
    "sum(G2MatrixUpdated .- G2MatrixOriginal)"
   ]
  },
  {
   "cell_type": "code",
   "execution_count": 46,
   "metadata": {},
   "outputs": [
    {
     "data": {
      "text/plain": [
       "-1.27675647831893e-15"
      ]
     },
     "execution_count": 46,
     "metadata": {},
     "output_type": "execute_result"
    }
   ],
   "source": [
    "sum(G2MatrixUpdated .- G2Matrix)"
   ]
  },
  {
   "cell_type": "code",
   "execution_count": 25,
   "metadata": {},
   "outputs": [
    {
     "name": "stdout",
     "output_type": "stream",
     "text": [
      "  107.760 μs (0 allocations: 0 bytes)\n"
     ]
    }
   ],
   "source": [
    "@btime updateG2Matrix!($G2Matrix, $distanceVector1, $distanceVector2, $systemParms, $NNParms.G2Functions, $pointIndex);"
   ]
  },
  {
   "cell_type": "code",
   "execution_count": 48,
   "metadata": {},
   "outputs": [],
   "source": [
    "updateG2Matrix!(G2Matrix, distanceVector2, distanceVector1, systemParms, NNParms.G2Functions, pointIndex);"
   ]
  },
  {
   "cell_type": "code",
   "execution_count": 50,
   "metadata": {},
   "outputs": [
    {
     "data": {
      "text/plain": [
       "-1.6653345369377348e-16"
      ]
     },
     "execution_count": 50,
     "metadata": {},
     "output_type": "execute_result"
    }
   ],
   "source": [
    "sum(G2MatrixOriginal .- G2Matrix)"
   ]
  },
  {
   "cell_type": "code",
   "execution_count": 6,
   "metadata": {},
   "outputs": [
    {
     "data": {
      "text/plain": [
       "Chain(\n",
       "  Dense(20 => 20, relu; bias=false),    \u001b[90m# 400 parameters\u001b[39m\n",
       "  Dense(20 => 20, relu; bias=false),    \u001b[90m# 400 parameters\u001b[39m\n",
       "  Dense(20 => 1; bias=false),           \u001b[90m# 20 parameters\u001b[39m\n",
       ") \u001b[90m                  # Total: 3 arrays, \u001b[39m820 parameters, 6.664 KiB."
      ]
     },
     "execution_count": 6,
     "metadata": {},
     "output_type": "execute_result"
    }
   ],
   "source": [
    "model"
   ]
  },
  {
   "cell_type": "code",
   "execution_count": 65,
   "metadata": {},
   "outputs": [],
   "source": [
    "inputdata = rand(Float64, (512, 14));\n",
    "inputlayer = inputdata[1, :];"
   ]
  },
  {
   "cell_type": "code",
   "execution_count": 67,
   "metadata": {},
   "outputs": [
    {
     "name": "stdout",
     "output_type": "stream",
     "text": [
      "  275.132 ns (6 allocations: 1.00 KiB)\n"
     ]
    },
    {
     "data": {
      "text/plain": [
       "0.296728100444809"
      ]
     },
     "execution_count": 67,
     "metadata": {},
     "output_type": "execute_result"
    }
   ],
   "source": [
    "@btime atomicEnergy($inputlayer, $model)"
   ]
  },
  {
   "cell_type": "code",
   "execution_count": 92,
   "metadata": {},
   "outputs": [
    {
     "name": "stdout",
     "output_type": "stream",
     "text": [
      "  154.099 μs (3585 allocations: 600.02 KiB)\n"
     ]
    },
    {
     "data": {
      "text/plain": [
       "387.64894878504174"
      ]
     },
     "execution_count": 92,
     "metadata": {},
     "output_type": "execute_result"
    }
   ],
   "source": [
    "@btime totalEnergyScalar(inputdata, model)"
   ]
  },
  {
   "cell_type": "code",
   "execution_count": 87,
   "metadata": {},
   "outputs": [
    {
     "data": {
      "text/plain": [
       "0.296728100444809"
      ]
     },
     "execution_count": 87,
     "metadata": {},
     "output_type": "execute_result"
    }
   ],
   "source": [
    "atomicEnergy(inputdata[1, :], model)"
   ]
  },
  {
   "cell_type": "code",
   "execution_count": 7,
   "metadata": {},
   "outputs": [
    {
     "data": {
      "text/plain": [
       "3-element Vector{Matrix{Float64}}:\n",
       " [2415.920543679994 2547.4565519338016 … 2191.36532301734 1912.3621881613617; 0.0 0.0 … 0.0 0.0; … ; 3034.7183653662732 3199.945132032516 … 2752.6470638218057 2402.181921432444; 0.0 0.0 … 0.0 0.0]\n",
       " [-1627.2656754914422 -0.0 … -1116.289223062292 -0.0; 2578.3771711348572 0.0 … 1768.7429240824147 0.0; … ; 1373.4965021267865 0.0 … 942.2059140864284 0.0; 0.0 0.0 … 0.0 0.0]\n",
       " [5444.763771149569 7445.66566094606 … 9993.053626551657 0.0]"
      ]
     },
     "execution_count": 7,
     "metadata": {},
     "output_type": "execute_result"
    }
   ],
   "source": [
    "energyGradients = computeEnergyGradients(G2Matrix, model)"
   ]
  },
  {
   "cell_type": "code",
   "execution_count": 8,
   "metadata": {},
   "outputs": [
    {
     "name": "stdout",
     "output_type": "stream",
     "text": [
      "  6.449 ms (20057 allocations: 88.38 MiB)\n"
     ]
    },
    {
     "data": {
      "text/plain": [
       "3-element Vector{Matrix{Float64}}:\n",
       " [2415.920543679994 2547.4565519338016 … 2191.36532301734 1912.3621881613617; 0.0 0.0 … 0.0 0.0; … ; 3034.7183653662732 3199.945132032516 … 2752.6470638218057 2402.181921432444; 0.0 0.0 … 0.0 0.0]\n",
       " [-1627.2656754914422 -0.0 … -1116.289223062292 -0.0; 2578.3771711348572 0.0 … 1768.7429240824147 0.0; … ; 1373.4965021267865 0.0 … 942.2059140864284 0.0; 0.0 0.0 … 0.0 0.0]\n",
       " [5444.763771149569 7445.66566094606 … 9993.053626551657 0.0]"
      ]
     },
     "execution_count": 8,
     "metadata": {},
     "output_type": "execute_result"
    }
   ],
   "source": [
    "@btime computeEnergyGradients($G2Matrix, $model)"
   ]
  },
  {
   "cell_type": "code",
   "execution_count": 5,
   "metadata": {},
   "outputs": [],
   "source": [
    "cutoff = 6.0 # Å\n",
    "rs = 0.0 # Å \n",
    "eta = 0.1 # Å^-2\n",
    "lambda = 1.0\n",
    "zeta = 1.0;"
   ]
  },
  {
   "cell_type": "code",
   "execution_count": 6,
   "metadata": {},
   "outputs": [],
   "source": [
    "distanceVector = distanceMatrix[:, 1];"
   ]
  },
  {
   "cell_type": "code",
   "execution_count": 7,
   "metadata": {},
   "outputs": [
    {
     "data": {
      "text/plain": [
       "computeCosAngle (generic function with 1 method)"
      ]
     },
     "execution_count": 7,
     "metadata": {},
     "output_type": "execute_result"
    }
   ],
   "source": [
    "function computeCosAngle(coordinates, i, j, k, distance_ij, distance_ik)::Float64\n",
    "    @assert i != j && i != k && k != j \n",
    "    vector_0i = coordinates[:, i]\n",
    "    vector_ij = coordinates[:, j] .- vector_0i\n",
    "    vector_ik = coordinates[:, k] .- vector_0i\n",
    "    cosAngle = dot(vector_ij, vector_ik) / (distance_ij * distance_ik)\n",
    "    return (cosAngle)\n",
    "end"
   ]
  },
  {
   "cell_type": "code",
   "execution_count": 8,
   "metadata": {},
   "outputs": [
    {
     "name": "stdout",
     "output_type": "stream",
     "text": [
      "  142.165 ns (9 allocations: 480 bytes)\n"
     ]
    },
    {
     "data": {
      "text/plain": [
       "0.7169325422695667"
      ]
     },
     "execution_count": 8,
     "metadata": {},
     "output_type": "execute_result"
    }
   ],
   "source": [
    "@btime computeCosAngle($coordinates, 1, 461, 483, distanceVector[461], distanceVector[483])"
   ]
  },
  {
   "cell_type": "code",
   "execution_count": 9,
   "metadata": {},
   "outputs": [
    {
     "data": {
      "text/plain": [
       "G9 (generic function with 3 methods)"
      ]
     },
     "execution_count": 9,
     "metadata": {},
     "output_type": "execute_result"
    }
   ],
   "source": [
    "function G9(cosAngle, distance_ij, distance_ik, cutoff, eta, zeta, lambda=1.0, rshift=0.0)::Float64\n",
    "    return (\n",
    "        (1.0 + lambda * cosAngle)^zeta * \n",
    "        exp(-eta * (\n",
    "                (distance_ij - rshift)^2 + \n",
    "                (distance_ik - rshift)^2)\n",
    "                ) * \n",
    "        distanceCutoff(distance_ij, cutoff) * \n",
    "        distanceCutoff(distance_ik, cutoff))\n",
    "end        "
   ]
  },
  {
   "cell_type": "code",
   "execution_count": 10,
   "metadata": {},
   "outputs": [
    {
     "data": {
      "text/plain": [
       "G3 (generic function with 3 methods)"
      ]
     },
     "execution_count": 10,
     "metadata": {},
     "output_type": "execute_result"
    }
   ],
   "source": [
    "function G3(cosAngle, distance_ij, distance_ik, distance_kj, cutoff, eta, zeta, lambda=1.0, rshift=0.0)::Float64\n",
    "    return (\n",
    "        (1.0 + lambda * cosAngle)^zeta * \n",
    "        exp(-eta * (\n",
    "                (distance_ij - rshift)^2 + \n",
    "                (distance_ik - rshift)^2 +\n",
    "                (distance_kj - rshift)^2)) * \n",
    "        distanceCutoff(distance_ij, cutoff) * \n",
    "        distanceCutoff(distance_ik, cutoff) *\n",
    "        distanceCutoff(distance_kj, cutoff))\n",
    "end        "
   ]
  },
  {
   "cell_type": "code",
   "execution_count": 11,
   "metadata": {},
   "outputs": [
    {
     "data": {
      "text/plain": [
       "G9total (generic function with 3 methods)"
      ]
     },
     "execution_count": 11,
     "metadata": {},
     "output_type": "execute_result"
    }
   ],
   "source": [
    "function G9total(i, coordinates, distanceMatrix, cutoff, eta, zeta, lambda=1.0, rshift=0.0)::Float64\n",
    "    sum = 0.0\n",
    "    distanceVector = distanceMatrix[:, i];\n",
    "    N = length(distanceVector)\n",
    "    @inbounds for k in eachindex(distanceVector)\n",
    "        distance_ik = distanceVector[k]\n",
    "        @inbounds for j in 1:k-1\n",
    "            distance_ij = distanceVector[j]\n",
    "            if 0 < distance_ij < cutoff && 0 < distance_ik < cutoff\n",
    "                cosAngle = computeCosAngle(coordinates, i, j, k, distance_ij, distance_ik)\n",
    "                sum += G9(cosAngle, distance_ij, distance_ik, cutoff, eta, zeta, lambda, rshift)\n",
    "            end\n",
    "        end\n",
    "    end\n",
    "    return (2.0^(1.0 - zeta) * sum)\n",
    "end"
   ]
  },
  {
   "cell_type": "code",
   "execution_count": 12,
   "metadata": {},
   "outputs": [
    {
     "name": "stdout",
     "output_type": "stream",
     "text": [
      "  11.758 μs (333 allocations: 29.95 KiB)\n"
     ]
    },
    {
     "data": {
      "text/plain": [
       "0.6491223630240601"
      ]
     },
     "execution_count": 12,
     "metadata": {},
     "output_type": "execute_result"
    }
   ],
   "source": [
    "@btime G9total(5, $coordinates, $distanceMatrix, cutoff, eta, 1.0, 1.0)"
   ]
  },
  {
   "cell_type": "code",
   "execution_count": 13,
   "metadata": {},
   "outputs": [
    {
     "data": {
      "text/plain": [
       "0.6491223630240601"
      ]
     },
     "execution_count": 13,
     "metadata": {},
     "output_type": "execute_result"
    }
   ],
   "source": [
    "G9total(5, coordinates, distanceMatrix, cutoff, eta, 1.0, 1.0)"
   ]
  },
  {
   "attachments": {},
   "cell_type": "markdown",
   "metadata": {},
   "source": [
    "I will implement the G3total function later (because an additional distance has to be computed)"
   ]
  },
  {
   "cell_type": "code",
   "execution_count": 15,
   "metadata": {},
   "outputs": [
    {
     "name": "stdout",
     "output_type": "stream",
     "text": [
      "  6.737 ms (2 allocations: 2.00 MiB)\n"
     ]
    }
   ],
   "source": [
    "@btime buildDistanceMatrix_old($frame);"
   ]
  },
  {
   "cell_type": "code",
   "execution_count": 16,
   "metadata": {},
   "outputs": [
    {
     "name": "stdout",
     "output_type": "stream",
     "text": [
      "  5.273 ms (3080 allocations: 12.27 MiB)\n"
     ]
    }
   ],
   "source": [
    "@btime buildDistanceMatrix($frame);"
   ]
  },
  {
   "cell_type": "code",
   "execution_count": 17,
   "metadata": {},
   "outputs": [
    {
     "data": {
      "text/plain": [
       "true"
      ]
     },
     "execution_count": 17,
     "metadata": {},
     "output_type": "execute_result"
    }
   ],
   "source": [
    "distanceMatrix1 = buildDistanceMatrix_old(frame)\n",
    "distanceMatrix2 = buildDistanceMatrix(frame)\n",
    "distanceMatrix1 == distanceMatrix2"
   ]
  },
  {
   "cell_type": "code",
   "execution_count": 18,
   "metadata": {},
   "outputs": [],
   "source": [
    "distanceVector = distanceMatrix[:, 1];"
   ]
  },
  {
   "cell_type": "code",
   "execution_count": 19,
   "metadata": {},
   "outputs": [
    {
     "name": "stdout",
     "output_type": "stream",
     "text": [
      "  435.050 ns (1 allocation: 4.12 KiB)\n"
     ]
    }
   ],
   "source": [
    "@btime $distanceMatrix[:, $1];"
   ]
  },
  {
   "cell_type": "code",
   "execution_count": 31,
   "metadata": {},
   "outputs": [
    {
     "data": {
      "text/plain": [
       "3-element Vector{Float64}:\n",
       " 15.830000638961792\n",
       " 32.47000217437744\n",
       " 31.760001182556152"
      ]
     },
     "execution_count": 31,
     "metadata": {},
     "output_type": "execute_result"
    }
   ],
   "source": [
    "coordinates = positions(frame);\n",
    "r1 = coordinates[:, 1]\n",
    "r2 = coordinates[:, 2]"
   ]
  },
  {
   "cell_type": "code",
   "execution_count": 35,
   "metadata": {},
   "outputs": [],
   "source": [
    "distanceVector1 = distanceMatrix[:, 2];"
   ]
  },
  {
   "cell_type": "code",
   "execution_count": 37,
   "metadata": {},
   "outputs": [],
   "source": [
    "distanceVector2 = computeDistanceVector(r2, coordinates, box);"
   ]
  },
  {
   "cell_type": "code",
   "execution_count": 33,
   "metadata": {},
   "outputs": [
    {
     "data": {
      "text/plain": [
       "true"
      ]
     },
     "execution_count": 33,
     "metadata": {},
     "output_type": "execute_result"
    }
   ],
   "source": [
    "distanceVector1 == distanceVector2"
   ]
  },
  {
   "cell_type": "code",
   "execution_count": 40,
   "metadata": {},
   "outputs": [
    {
     "name": "stdout",
     "output_type": "stream",
     "text": [
      "  10.216 μs (0 allocations: 0 bytes)\n"
     ]
    }
   ],
   "source": [
    "@btime updateDistance!($frame, $distanceVector, $1);"
   ]
  },
  {
   "cell_type": "code",
   "execution_count": 41,
   "metadata": {},
   "outputs": [
    {
     "name": "stdout",
     "output_type": "stream",
     "text": [
      "  6.400 μs (5 allocations: 20.45 KiB)\n"
     ]
    }
   ],
   "source": [
    "@btime computeDistanceVector($r1, $coordinates, $box);"
   ]
  }
 ],
 "metadata": {
  "kernelspec": {
   "display_name": "Julia 1.8.1",
   "language": "julia",
   "name": "julia-1.8"
  },
  "language_info": {
   "file_extension": ".jl",
   "mimetype": "application/julia",
   "name": "julia",
   "version": "1.8.1"
  },
  "orig_nbformat": 4
 },
 "nbformat": 4,
 "nbformat_minor": 2
}
