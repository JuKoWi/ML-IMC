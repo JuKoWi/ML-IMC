{
 "cells": [
  {
   "cell_type": "code",
   "execution_count": 1,
   "id": "ad123e02",
   "metadata": {},
   "outputs": [],
   "source": [
    "using Printf\n",
    "using Dates\n",
    "using RandomNumbers\n",
    "using StaticArrays\n",
    "using LinearAlgebra\n",
    "using Flux\n",
    "using Plots\n",
    "using Statistics\n",
    "\n",
    "include(\"src/distances.jl\");"
   ]
  },
  {
   "cell_type": "markdown",
   "id": "a6b9f420",
   "metadata": {},
   "source": [
    "# 1. Input configuration"
   ]
  },
  {
   "cell_type": "markdown",
   "id": "c645ee39",
   "metadata": {},
   "source": [
    "`Use ; sign to run OS commands:`"
   ]
  },
  {
   "cell_type": "code",
   "execution_count": 2,
   "id": "f4fa8698",
   "metadata": {},
   "outputs": [
    {
     "name": "stdout",
     "output_type": "stream",
     "text": [
      "algorithms\n",
      "LICENSE\n",
      "LJ-data.ipynb\n",
      "LJ-init.in\n",
      "LJML-init.in\n",
      "LJ-test.in\n",
      "mcLJ-run.jl\n",
      "mctraj-p001.xyz\n",
      "ML-IMC.ipynb\n",
      "rdf-mean-p40.dat\n",
      "README.md\n",
      "src\n"
     ]
    }
   ],
   "source": [
    ";ls"
   ]
  },
  {
   "cell_type": "markdown",
   "id": "468fe045",
   "metadata": {},
   "source": [
    "This is the function that allows to read XYZ output files. I will use the coordinates as an input data for the training."
   ]
  },
  {
   "cell_type": "code",
   "execution_count": 3,
   "id": "10d769d3",
   "metadata": {},
   "outputs": [],
   "source": [
    "\"\"\"\n",
    "readXYZ(xyzname)\n",
    "\n",
    "Reads an XYZ file and outputs coordinates of all atoms\n",
    "arranged in separate frames\n",
    "\"\"\"\n",
    "function readXYZ(xyzname)\n",
    "    file = open(xyzname, \"r\")\n",
    "    lines = readlines(file)\n",
    "    natoms = parse(Int, lines[1])\n",
    "    ncomments = 2\n",
    "    nlines = length(lines)\n",
    "    nframes = Int((nlines % natoms) / 2)\n",
    "    xyz = [[zeros(3) for i in 1:natoms] for j in 1:nframes]\n",
    "    println(\"Reading $(xyzname) with $(nlines) lines...\")\n",
    "    println(\"Found $(nframes) frames with $(natoms) atoms each...\")\n",
    "    for lineId in 1:nlines\n",
    "        frameId = ceil(Int, lineId/(natoms + ncomments))\n",
    "        atomId = lineId - ((frameId - 1) * (natoms + ncomments)) - ncomments\n",
    "        @assert atomId <= natoms\n",
    "        if atomId > 0\n",
    "            atomLine = split(lines[lineId])\n",
    "            for i in 1:3\n",
    "                xyz[frameId][atomId][i] = parse(Float64, atomLine[i+1])\n",
    "            end\n",
    "        end\n",
    "    end\n",
    "    close(file)\n",
    "    println(\"Success! Closing the file...\")\n",
    "    return(xyz)\n",
    "end;"
   ]
  },
  {
   "cell_type": "markdown",
   "id": "627cf7a0",
   "metadata": {},
   "source": [
    "Reading the configurations:"
   ]
  },
  {
   "cell_type": "code",
   "execution_count": 4,
   "id": "0fe87b8f",
   "metadata": {},
   "outputs": [
    {
     "name": "stdout",
     "output_type": "stream",
     "text": [
      "Reading mctraj-p001.xyz with 6012 lines...\n",
      "Found 6 frames with 1000 atoms each...\n",
      "Success! Closing the file...\n"
     ]
    }
   ],
   "source": [
    "xyz = readXYZ(\"mctraj-p001.xyz\");"
   ]
  },
  {
   "cell_type": "markdown",
   "id": "9d1b1620",
   "metadata": {},
   "source": [
    "Saving the final configuration:"
   ]
  },
  {
   "cell_type": "code",
   "execution_count": 5,
   "id": "7a890715",
   "metadata": {},
   "outputs": [],
   "source": [
    "confout = xyz[end];"
   ]
  },
  {
   "cell_type": "markdown",
   "id": "b2500820",
   "metadata": {},
   "source": [
    "# 2. Reference distance histogram"
   ]
  },
  {
   "cell_type": "code",
   "execution_count": 6,
   "id": "e378687c",
   "metadata": {},
   "outputs": [],
   "source": [
    "\"\"\"\n",
    "readRDF(rdfname)\n",
    "\n",
    "Reads RDF and distance histogram produced\n",
    "by mcLJ.jl\n",
    "\"\"\"\n",
    "function readRDF(rdfname)\n",
    "    file = open(rdfname, \"r\")\n",
    "    lines = readlines(file)\n",
    "    ncomments = 2\n",
    "    nlines = length(lines) - ncomments\n",
    "    bins = zeros(nlines)\n",
    "    rdf = zeros(nlines)\n",
    "    hist = zeros(nlines)\n",
    "    for i in (1 + ncomments):length(lines)\n",
    "        rdfline = split(lines[i])\n",
    "        if length(rdfline) == 3\n",
    "            bins[i - ncomments] = parse(Float64, rdfline[1])\n",
    "            rdf[i - ncomments] = parse(Float64, rdfline[2])\n",
    "            hist[i - ncomments] = parse(Float64, rdfline[3])\n",
    "        end\n",
    "    end\n",
    "    return(bins, rdf, hist)\n",
    "end;"
   ]
  },
  {
   "cell_type": "code",
   "execution_count": 7,
   "id": "77f45418",
   "metadata": {},
   "outputs": [],
   "source": [
    "bins, refrdf, refhist = readRDF(\"rdf-mean-p40.dat\");"
   ]
  },
  {
   "cell_type": "markdown",
   "id": "b27d84b4",
   "metadata": {},
   "source": [
    "# 3. ML-IMC input parameters"
   ]
  },
  {
   "cell_type": "code",
   "execution_count": 69,
   "id": "4635dbca",
   "metadata": {},
   "outputs": [],
   "source": [
    "\"\"\"\n",
    "struct inputParms\n",
    "\n",
    "Fields:\n",
    "box: box vector, Å\n",
    "T: temperature, K\n",
    "Δ: max displacement, Å\n",
    "steps: total number of steps\n",
    "Eqsteps: equilibration steps\n",
    "xyzout: XYZ output frequency\n",
    "outfreq: output frequency\n",
    "\"\"\"\n",
    "struct inputParms\n",
    "    box::SVector{3, Float64}\n",
    "    T::Float64\n",
    "    Δ::Float64  \n",
    "    steps::Int\n",
    "    Eqsteps::Int\n",
    "    xyzout::Int \n",
    "    outfreq::Int\n",
    "end\n",
    "\n",
    "\"\"\"\n",
    "readinput(inputname)\n",
    "\n",
    "Reads an input file for ML-IMC\n",
    "and saves the data into the\n",
    "inputParms struct\n",
    "\"\"\"\n",
    "function readinput(inputname)\n",
    "    # Has to define the variable outside of the main loop\n",
    "    box = zeros(3)\n",
    "    T::Float64 = 0.\n",
    "    Δ::Float64 = 0.\n",
    "    steps::Int = 0\n",
    "    Eqsteps::Int = 0\n",
    "    xyzout::Int = 0\n",
    "    outfreq::Int = 0\n",
    "    file = open(inputname, \"r\")\n",
    "    lines = readlines(file)\n",
    "    for line in lines\n",
    "        if length(line) > 0 && line[1] != '#'\n",
    "            splittedLine = split(line)\n",
    "            if splittedLine[1] == \"box\"\n",
    "                box[1] = parse(Float64, splittedLine[3])\n",
    "                box[2] = parse(Float64, splittedLine[4])\n",
    "                box[3] = parse(Float64, splittedLine[5])\n",
    "            elseif splittedLine[1] == \"temperature\"\n",
    "                T = parse(Float64, splittedLine[3])\n",
    "            elseif splittedLine[1] == \"delta\"\n",
    "                Δ = parse(Float64, splittedLine[3])\n",
    "            elseif splittedLine[1] == \"steps\"\n",
    "                steps = Int(parse(Float64, splittedLine[3]))\n",
    "            elseif splittedLine[1] == \"Eqsteps\"\n",
    "                Eqsteps = Int(parse(Float64, splittedLine[3]))\n",
    "            elseif splittedLine[1] == \"xyzout\"\n",
    "                xyzout = Int(parse(Float64, splittedLine[3]))\n",
    "            elseif splittedLine[1] == \"outfreq\"\n",
    "                outfreq = Int(parse(Float64, splittedLine[3]))\n",
    "            end\n",
    "        end\n",
    "    end\n",
    "    # Save parameters into the inputParms struct\n",
    "    parameters = inputParms(box, T, Δ, steps, Eqsteps, xyzout, outfreq)\n",
    "    return(parameters)\n",
    "end;"
   ]
  },
  {
   "cell_type": "code",
   "execution_count": 70,
   "id": "0b61019a",
   "metadata": {},
   "outputs": [],
   "source": [
    "parameters = readinput(\"LJML-init.in\");"
   ]
  },
  {
   "cell_type": "code",
   "execution_count": 71,
   "id": "0a702916",
   "metadata": {},
   "outputs": [
    {
     "data": {
      "text/plain": [
       "3-element SVector{3, Float64} with indices SOneTo(3):\n",
       " 36.405\n",
       " 36.405\n",
       " 36.405"
      ]
     },
     "execution_count": 71,
     "metadata": {},
     "output_type": "execute_result"
    }
   ],
   "source": [
    "parameters.box"
   ]
  },
  {
   "cell_type": "code",
   "execution_count": null,
   "id": "441ed39f",
   "metadata": {},
   "outputs": [],
   "source": []
  }
 ],
 "metadata": {
  "kernelspec": {
   "display_name": "Julia 1.7.1",
   "language": "julia",
   "name": "julia-1.7"
  },
  "language_info": {
   "file_extension": ".jl",
   "mimetype": "application/julia",
   "name": "julia",
   "version": "1.7.1"
  }
 },
 "nbformat": 4,
 "nbformat_minor": 5
}
